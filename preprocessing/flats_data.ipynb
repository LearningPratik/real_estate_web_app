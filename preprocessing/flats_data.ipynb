{
 "cells": [
  {
   "cell_type": "code",
   "execution_count": 20,
   "id": "a4d380c5-8e6b-469c-9b0f-21513d6b0e65",
   "metadata": {},
   "outputs": [],
   "source": [
    "import pandas as pd\n",
    "import copy"
   ]
  },
  {
   "cell_type": "code",
   "execution_count": 9,
   "id": "9bd22b54-a977-497b-a244-f2527d49d12c",
   "metadata": {},
   "outputs": [],
   "source": [
    "df = pd.read_csv(r\"D:\\Projects\\plot_recommendition\\data\\pune\\Flats\\flats_excel_cleaned.csv\")"
   ]
  },
  {
   "cell_type": "code",
   "execution_count": 11,
   "id": "d4539314-7ccf-4e26-9800-78657cb1c444",
   "metadata": {},
   "outputs": [
    {
     "data": {
      "text/html": [
       "<div>\n",
       "<style scoped>\n",
       "    .dataframe tbody tr th:only-of-type {\n",
       "        vertical-align: middle;\n",
       "    }\n",
       "\n",
       "    .dataframe tbody tr th {\n",
       "        vertical-align: top;\n",
       "    }\n",
       "\n",
       "    .dataframe thead th {\n",
       "        text-align: right;\n",
       "    }\n",
       "</style>\n",
       "<table border=\"1\" class=\"dataframe\">\n",
       "  <thead>\n",
       "    <tr style=\"text-align: right;\">\n",
       "      <th></th>\n",
       "      <th>property_name</th>\n",
       "      <th>link</th>\n",
       "      <th>society</th>\n",
       "      <th>price</th>\n",
       "      <th>area</th>\n",
       "      <th>areaWithType</th>\n",
       "      <th>bedRoom</th>\n",
       "      <th>bathroom</th>\n",
       "      <th>balcony</th>\n",
       "      <th>additionalRoom</th>\n",
       "      <th>address</th>\n",
       "      <th>floorNum</th>\n",
       "      <th>facing</th>\n",
       "      <th>agePossession</th>\n",
       "      <th>nearbyLocations</th>\n",
       "      <th>description</th>\n",
       "      <th>furnishDetails</th>\n",
       "      <th>features</th>\n",
       "      <th>rating</th>\n",
       "      <th>property_id</th>\n",
       "    </tr>\n",
       "  </thead>\n",
       "  <tbody>\n",
       "    <tr>\n",
       "      <th>1050</th>\n",
       "      <td>2 BHK Flat in Sector 67A Gurgaon</td>\n",
       "      <td>https://www.99acres.com/2-bhk-bedroom-apartmen...</td>\n",
       "      <td>Pyramid Urban</td>\n",
       "      <td>53 Lac</td>\n",
       "      <td>₹ 8,967/sq.ft.</td>\n",
       "      <td>Carpet area: 591 (54.91 sq.m.)</td>\n",
       "      <td>2 Bedrooms</td>\n",
       "      <td>2 Bathrooms</td>\n",
       "      <td>1 Balcony</td>\n",
       "      <td>Others</td>\n",
       "      <td>Sector 67A Gurgaon, Gurgaon, Haryana</td>\n",
       "      <td>6th   of 14 Floors</td>\n",
       "      <td>West</td>\n",
       "      <td>1 to 5 Year Old</td>\n",
       "      <td>['Airia Mall, Sector 68', 'M3M Cosmopolitan Ma...</td>\n",
       "      <td>It is the best location on sohna road it is al...</td>\n",
       "      <td>['2 Wardrobe', '4 Fan', '1 Exhaust Fan', '2 Ge...</td>\n",
       "      <td>['Feng Shui / Vaastu Compliant', 'Security / F...</td>\n",
       "      <td>['Environment5 out of 5', 'Lifestyle4 out of 5...</td>\n",
       "      <td>F69850864</td>\n",
       "    </tr>\n",
       "  </tbody>\n",
       "</table>\n",
       "</div>"
      ],
      "text/plain": [
       "                         property_name  \\\n",
       "1050  2 BHK Flat in Sector 67A Gurgaon   \n",
       "\n",
       "                                                   link        society  \\\n",
       "1050  https://www.99acres.com/2-bhk-bedroom-apartmen...  Pyramid Urban   \n",
       "\n",
       "       price            area                    areaWithType     bedRoom  \\\n",
       "1050  53 Lac  ₹ 8,967/sq.ft.  Carpet area: 591 (54.91 sq.m.)  2 Bedrooms   \n",
       "\n",
       "         bathroom    balcony additionalRoom  \\\n",
       "1050  2 Bathrooms  1 Balcony         Others   \n",
       "\n",
       "                                   address            floorNum facing  \\\n",
       "1050  Sector 67A Gurgaon, Gurgaon, Haryana  6th   of 14 Floors   West   \n",
       "\n",
       "        agePossession                                    nearbyLocations  \\\n",
       "1050  1 to 5 Year Old  ['Airia Mall, Sector 68', 'M3M Cosmopolitan Ma...   \n",
       "\n",
       "                                            description  \\\n",
       "1050  It is the best location on sohna road it is al...   \n",
       "\n",
       "                                         furnishDetails  \\\n",
       "1050  ['2 Wardrobe', '4 Fan', '1 Exhaust Fan', '2 Ge...   \n",
       "\n",
       "                                               features  \\\n",
       "1050  ['Feng Shui / Vaastu Compliant', 'Security / F...   \n",
       "\n",
       "                                                 rating property_id  \n",
       "1050  ['Environment5 out of 5', 'Lifestyle4 out of 5...   F69850864  "
      ]
     },
     "execution_count": 11,
     "metadata": {},
     "output_type": "execute_result"
    }
   ],
   "source": [
    "df.sample()"
   ]
  },
  {
   "cell_type": "code",
   "execution_count": 12,
   "id": "f034a706-fc6b-4624-8c6a-ba8967ec1aff",
   "metadata": {},
   "outputs": [
    {
     "data": {
      "text/plain": [
       "(3017, 20)"
      ]
     },
     "execution_count": 12,
     "metadata": {},
     "output_type": "execute_result"
    }
   ],
   "source": [
    "df.shape"
   ]
  },
  {
   "cell_type": "code",
   "execution_count": 13,
   "id": "b9392c0e-f1e4-429c-90f2-68997003481d",
   "metadata": {},
   "outputs": [
    {
     "name": "stdout",
     "output_type": "stream",
     "text": [
      "<class 'pandas.core.frame.DataFrame'>\n",
      "RangeIndex: 3017 entries, 0 to 3016\n",
      "Data columns (total 20 columns):\n",
      " #   Column           Non-Null Count  Dtype \n",
      "---  ------           --------------  ----- \n",
      " 0   property_name    3017 non-null   object\n",
      " 1   link             3017 non-null   object\n",
      " 2   society          3016 non-null   object\n",
      " 3   price            3007 non-null   object\n",
      " 4   area             3004 non-null   object\n",
      " 5   areaWithType     3008 non-null   object\n",
      " 6   bedRoom          3008 non-null   object\n",
      " 7   bathroom         3008 non-null   object\n",
      " 8   balcony          3008 non-null   object\n",
      " 9   additionalRoom   1694 non-null   object\n",
      " 10  address          3002 non-null   object\n",
      " 11  floorNum         3006 non-null   object\n",
      " 12  facing           2127 non-null   object\n",
      " 13  agePossession    3007 non-null   object\n",
      " 14  nearbyLocations  2913 non-null   object\n",
      " 15  description      3008 non-null   object\n",
      " 16  furnishDetails   2203 non-null   object\n",
      " 17  features         2594 non-null   object\n",
      " 18  rating           2676 non-null   object\n",
      " 19  property_id      3008 non-null   object\n",
      "dtypes: object(20)\n",
      "memory usage: 471.5+ KB\n"
     ]
    }
   ],
   "source": [
    "df.info()"
   ]
  },
  {
   "cell_type": "code",
   "execution_count": 15,
   "id": "d6c9e125-efee-476e-a8ae-bb85632a13b8",
   "metadata": {},
   "outputs": [
    {
     "data": {
      "text/plain": [
       "np.int64(0)"
      ]
     },
     "execution_count": 15,
     "metadata": {},
     "output_type": "execute_result"
    }
   ],
   "source": [
    "df.duplicated().sum()"
   ]
  },
  {
   "cell_type": "code",
   "execution_count": 18,
   "id": "2625ba2a-9953-4bd7-9e19-255adeaa5d6a",
   "metadata": {},
   "outputs": [
    {
     "data": {
      "text/plain": [
       "property_name         0\n",
       "link                  0\n",
       "society               1\n",
       "price                10\n",
       "area                 13\n",
       "areaWithType          9\n",
       "bedRoom               9\n",
       "bathroom              9\n",
       "balcony               9\n",
       "additionalRoom     1323\n",
       "address              15\n",
       "floorNum             11\n",
       "facing              890\n",
       "agePossession        10\n",
       "nearbyLocations     104\n",
       "description           9\n",
       "furnishDetails      814\n",
       "features            423\n",
       "rating              341\n",
       "property_id           9\n",
       "dtype: int64"
      ]
     },
     "execution_count": 18,
     "metadata": {},
     "output_type": "execute_result"
    }
   ],
   "source": [
    "df.isnull().sum()"
   ]
  },
  {
   "cell_type": "markdown",
   "id": "0b30f9b5-2297-4d3a-bf89-b96a81e3c764",
   "metadata": {},
   "source": [
    "* https://www.programiz.com/python-programming/shallow-deep-copy\n",
    "* `shallow copy` - if we append anything new then it wouldnt affect the old but changing the existing element with change old_one.\n",
    "* `deep copy` - old and new copies stay independent."
   ]
  },
  {
   "cell_type": "code",
   "execution_count": 22,
   "id": "f9f0ea37-2e57-44ee-a7c2-e3d93fcb651a",
   "metadata": {},
   "outputs": [
    {
     "data": {
      "text/html": [
       "<div>\n",
       "<style scoped>\n",
       "    .dataframe tbody tr th:only-of-type {\n",
       "        vertical-align: middle;\n",
       "    }\n",
       "\n",
       "    .dataframe tbody tr th {\n",
       "        vertical-align: top;\n",
       "    }\n",
       "\n",
       "    .dataframe thead th {\n",
       "        text-align: right;\n",
       "    }\n",
       "</style>\n",
       "<table border=\"1\" class=\"dataframe\">\n",
       "  <thead>\n",
       "    <tr style=\"text-align: right;\">\n",
       "      <th></th>\n",
       "      <th>property_name</th>\n",
       "      <th>link</th>\n",
       "      <th>society</th>\n",
       "      <th>price</th>\n",
       "      <th>area</th>\n",
       "      <th>areaWithType</th>\n",
       "      <th>bedRoom</th>\n",
       "      <th>bathroom</th>\n",
       "      <th>balcony</th>\n",
       "      <th>additionalRoom</th>\n",
       "      <th>address</th>\n",
       "      <th>floorNum</th>\n",
       "      <th>facing</th>\n",
       "      <th>agePossession</th>\n",
       "      <th>nearbyLocations</th>\n",
       "      <th>description</th>\n",
       "      <th>furnishDetails</th>\n",
       "      <th>features</th>\n",
       "      <th>rating</th>\n",
       "      <th>property_id</th>\n",
       "    </tr>\n",
       "  </thead>\n",
       "  <tbody>\n",
       "    <tr>\n",
       "      <th>3000</th>\n",
       "      <td>3 BHK Flat in Sector 78 Gurgaon</td>\n",
       "      <td>https://www.99acres.com/3-bhk-bedroom-apartmen...</td>\n",
       "      <td>Umang Monsoon Breeze</td>\n",
       "      <td>1.2 Crore</td>\n",
       "      <td>₹ 6,493/sq.ft.</td>\n",
       "      <td>Super Built up area 2250(209.03 sq.m.)Carpet a...</td>\n",
       "      <td>3 Bedrooms</td>\n",
       "      <td>3 Bathrooms</td>\n",
       "      <td>2 Balconies</td>\n",
       "      <td>Pooja Room</td>\n",
       "      <td>Sector 78 Gurgaon, Gurgaon, Haryana</td>\n",
       "      <td>8th   of 12 Floors</td>\n",
       "      <td>NaN</td>\n",
       "      <td>5 to 10 Year Old</td>\n",
       "      <td>['Proposed Metro Station', 'Mahapal Shing', 'N...</td>\n",
       "      <td>A 3 bedroom flat, located in sector-78 gurgaon...</td>\n",
       "      <td>['1 Water Purifier', '1 Fridge', '5 Fan', '1 E...</td>\n",
       "      <td>['Piped-gas', 'Natural Light']</td>\n",
       "      <td>['Safety4 out of 5', 'Lifestyle4 out of 5', 'E...</td>\n",
       "      <td>R61360534</td>\n",
       "    </tr>\n",
       "  </tbody>\n",
       "</table>\n",
       "</div>"
      ],
      "text/plain": [
       "                        property_name  \\\n",
       "3000  3 BHK Flat in Sector 78 Gurgaon   \n",
       "\n",
       "                                                   link               society  \\\n",
       "3000  https://www.99acres.com/3-bhk-bedroom-apartmen...  Umang Monsoon Breeze   \n",
       "\n",
       "          price            area  \\\n",
       "3000  1.2 Crore  ₹ 6,493/sq.ft.   \n",
       "\n",
       "                                           areaWithType     bedRoom  \\\n",
       "3000  Super Built up area 2250(209.03 sq.m.)Carpet a...  3 Bedrooms   \n",
       "\n",
       "         bathroom      balcony additionalRoom  \\\n",
       "3000  3 Bathrooms  2 Balconies     Pooja Room   \n",
       "\n",
       "                                  address            floorNum facing  \\\n",
       "3000  Sector 78 Gurgaon, Gurgaon, Haryana  8th   of 12 Floors    NaN   \n",
       "\n",
       "         agePossession                                    nearbyLocations  \\\n",
       "3000  5 to 10 Year Old  ['Proposed Metro Station', 'Mahapal Shing', 'N...   \n",
       "\n",
       "                                            description  \\\n",
       "3000  A 3 bedroom flat, located in sector-78 gurgaon...   \n",
       "\n",
       "                                         furnishDetails  \\\n",
       "3000  ['1 Water Purifier', '1 Fridge', '5 Fan', '1 E...   \n",
       "\n",
       "                            features  \\\n",
       "3000  ['Piped-gas', 'Natural Light']   \n",
       "\n",
       "                                                 rating property_id  \n",
       "3000  ['Safety4 out of 5', 'Lifestyle4 out of 5', 'E...   R61360534  "
      ]
     },
     "execution_count": 22,
     "metadata": {},
     "output_type": "execute_result"
    }
   ],
   "source": [
    "df_copy = copy.deepcopy(df)\n",
    "df_copy.sample()"
   ]
  },
  {
   "cell_type": "code",
   "execution_count": 23,
   "id": "036058a7-60f9-402f-94c1-bcc05918f6d4",
   "metadata": {},
   "outputs": [
    {
     "data": {
      "text/html": [
       "<div>\n",
       "<style scoped>\n",
       "    .dataframe tbody tr th:only-of-type {\n",
       "        vertical-align: middle;\n",
       "    }\n",
       "\n",
       "    .dataframe tbody tr th {\n",
       "        vertical-align: top;\n",
       "    }\n",
       "\n",
       "    .dataframe thead th {\n",
       "        text-align: right;\n",
       "    }\n",
       "</style>\n",
       "<table border=\"1\" class=\"dataframe\">\n",
       "  <thead>\n",
       "    <tr style=\"text-align: right;\">\n",
       "      <th></th>\n",
       "      <th>property_name</th>\n",
       "      <th>society</th>\n",
       "      <th>price</th>\n",
       "      <th>area</th>\n",
       "      <th>areaWithType</th>\n",
       "      <th>bedRoom</th>\n",
       "      <th>bathroom</th>\n",
       "      <th>balcony</th>\n",
       "      <th>additionalRoom</th>\n",
       "      <th>address</th>\n",
       "      <th>floorNum</th>\n",
       "      <th>facing</th>\n",
       "      <th>agePossession</th>\n",
       "      <th>nearbyLocations</th>\n",
       "      <th>description</th>\n",
       "      <th>furnishDetails</th>\n",
       "      <th>features</th>\n",
       "      <th>rating</th>\n",
       "    </tr>\n",
       "  </thead>\n",
       "  <tbody>\n",
       "    <tr>\n",
       "      <th>564</th>\n",
       "      <td>4 BHK Flat in Sector 81 Gurgaon</td>\n",
       "      <td>Bestech Spa Signature</td>\n",
       "      <td>4.45 Crore</td>\n",
       "      <td>₹ 10,595/sq.ft.</td>\n",
       "      <td>Super Built up area 4200(390.19 sq.m.)Built Up...</td>\n",
       "      <td>4 Bedrooms</td>\n",
       "      <td>4 Bathrooms</td>\n",
       "      <td>3+ Balconies</td>\n",
       "      <td>Pooja Room,Study Room,Servant Room,Others</td>\n",
       "      <td>S-802, Sector 81 Gurgaon, Gurgaon, Haryana</td>\n",
       "      <td>8th   of 31 Floors</td>\n",
       "      <td>South-West</td>\n",
       "      <td>1 to 5 Year Old</td>\n",
       "      <td>['HUDA City Metro Station', 'Sapphire 83 mall'...</td>\n",
       "      <td>Bestech spa signature is one of the most popul...</td>\n",
       "      <td>['5 Wardrobe', '1 Stove', '1 Microwave', '20 L...</td>\n",
       "      <td>['Feng Shui / Vaastu Compliant', 'Security / F...</td>\n",
       "      <td>['Environment4.5 out of 5', 'Lifestyle4 out of...</td>\n",
       "    </tr>\n",
       "  </tbody>\n",
       "</table>\n",
       "</div>"
      ],
      "text/plain": [
       "                       property_name                society       price  \\\n",
       "564  4 BHK Flat in Sector 81 Gurgaon  Bestech Spa Signature  4.45 Crore   \n",
       "\n",
       "                area                                       areaWithType  \\\n",
       "564  ₹ 10,595/sq.ft.  Super Built up area 4200(390.19 sq.m.)Built Up...   \n",
       "\n",
       "        bedRoom     bathroom       balcony  \\\n",
       "564  4 Bedrooms  4 Bathrooms  3+ Balconies   \n",
       "\n",
       "                                additionalRoom  \\\n",
       "564  Pooja Room,Study Room,Servant Room,Others   \n",
       "\n",
       "                                        address            floorNum  \\\n",
       "564  S-802, Sector 81 Gurgaon, Gurgaon, Haryana  8th   of 31 Floors   \n",
       "\n",
       "         facing    agePossession  \\\n",
       "564  South-West  1 to 5 Year Old   \n",
       "\n",
       "                                       nearbyLocations  \\\n",
       "564  ['HUDA City Metro Station', 'Sapphire 83 mall'...   \n",
       "\n",
       "                                           description  \\\n",
       "564  Bestech spa signature is one of the most popul...   \n",
       "\n",
       "                                        furnishDetails  \\\n",
       "564  ['5 Wardrobe', '1 Stove', '1 Microwave', '20 L...   \n",
       "\n",
       "                                              features  \\\n",
       "564  ['Feng Shui / Vaastu Compliant', 'Security / F...   \n",
       "\n",
       "                                                rating  \n",
       "564  ['Environment4.5 out of 5', 'Lifestyle4 out of...  "
      ]
     },
     "execution_count": 23,
     "metadata": {},
     "output_type": "execute_result"
    }
   ],
   "source": [
    "# Columns to drop --> links and property_id which is of no use\n",
    "df_copy = df_copy.drop(columns = ['link', 'property_id'])\n",
    "df_copy.sample()"
   ]
  },
  {
   "cell_type": "code",
   "execution_count": 27,
   "id": "e6ea7f68-664f-47e4-989c-25541a7d3825",
   "metadata": {},
   "outputs": [],
   "source": [
    "df_copy.rename(columns = {'area' : 'price_per_sqft'}, inplace = True)"
   ]
  },
  {
   "cell_type": "code",
   "execution_count": 30,
   "id": "ac4824d7-d75e-4549-abbd-f149df2f56a3",
   "metadata": {},
   "outputs": [
    {
     "data": {
      "text/plain": [
       "(638,)"
      ]
     },
     "execution_count": 30,
     "metadata": {},
     "output_type": "execute_result"
    }
   ],
   "source": [
    "df_copy.society.value_counts().shape"
   ]
  },
  {
   "cell_type": "code",
   "execution_count": 32,
   "id": "a3e3e293-1f8e-4265-b593-e805408e9143",
   "metadata": {},
   "outputs": [],
   "source": [
    "import re\n",
    "\n",
    "df_copy.society = df_copy.society.apply(lambda name : re.sub(r'\\d+(\\.\\d+)?\\s?★', '', str(name)).strip()).str.lower()"
   ]
  },
  {
   "cell_type": "code",
   "execution_count": 36,
   "id": "c02c0298-16fb-4eaf-b363-4398acbffae5",
   "metadata": {},
   "outputs": [
    {
     "data": {
      "text/plain": [
       "(604,)"
      ]
     },
     "execution_count": 36,
     "metadata": {},
     "output_type": "execute_result"
    }
   ],
   "source": [
    "df_copy.society.value_counts().shape"
   ]
  },
  {
   "cell_type": "code",
   "execution_count": 37,
   "id": "c47709eb-3156-43e2-8737-69087ad220b5",
   "metadata": {},
   "outputs": [
    {
     "data": {
      "text/plain": [
       "price\n",
       "1.25 Crore     79\n",
       "1.1 Crore      61\n",
       "1.4 Crore      60\n",
       "1.5 Crore      59\n",
       "1.2 Crore      59\n",
       "               ..\n",
       "35.5 Lac        1\n",
       "4.94 Crore      1\n",
       "10.75 Crore     1\n",
       "9.14 Crore      1\n",
       "62.5 Lac        1\n",
       "Name: count, Length: 439, dtype: int64"
      ]
     },
     "execution_count": 37,
     "metadata": {},
     "output_type": "execute_result"
    }
   ],
   "source": [
    "df.price.value_counts()"
   ]
  },
  {
   "cell_type": "code",
   "execution_count": 38,
   "id": "dfe0db11-b61b-47be-b657-4bf33895cc20",
   "metadata": {},
   "outputs": [
    {
     "data": {
      "text/html": [
       "<div>\n",
       "<style scoped>\n",
       "    .dataframe tbody tr th:only-of-type {\n",
       "        vertical-align: middle;\n",
       "    }\n",
       "\n",
       "    .dataframe tbody tr th {\n",
       "        vertical-align: top;\n",
       "    }\n",
       "\n",
       "    .dataframe thead th {\n",
       "        text-align: right;\n",
       "    }\n",
       "</style>\n",
       "<table border=\"1\" class=\"dataframe\">\n",
       "  <thead>\n",
       "    <tr style=\"text-align: right;\">\n",
       "      <th></th>\n",
       "      <th>property_name</th>\n",
       "      <th>society</th>\n",
       "      <th>price</th>\n",
       "      <th>price_per_sqft</th>\n",
       "      <th>areaWithType</th>\n",
       "      <th>bedRoom</th>\n",
       "      <th>bathroom</th>\n",
       "      <th>balcony</th>\n",
       "      <th>additionalRoom</th>\n",
       "      <th>address</th>\n",
       "      <th>floorNum</th>\n",
       "      <th>facing</th>\n",
       "      <th>agePossession</th>\n",
       "      <th>nearbyLocations</th>\n",
       "      <th>description</th>\n",
       "      <th>furnishDetails</th>\n",
       "      <th>features</th>\n",
       "      <th>rating</th>\n",
       "    </tr>\n",
       "  </thead>\n",
       "  <tbody>\n",
       "    <tr>\n",
       "      <th>25</th>\n",
       "      <td>5 BHK Flat in Sector 1 Gurgaon</td>\n",
       "      <td>the new people apartments</td>\n",
       "      <td>Price on Request</td>\n",
       "      <td>NaN</td>\n",
       "      <td>Built Up area: 4500 (418.06 sq.m.)</td>\n",
       "      <td>5 Bedrooms</td>\n",
       "      <td>1 Bathroom</td>\n",
       "      <td>No Balcony</td>\n",
       "      <td>NaN</td>\n",
       "      <td>Sector 1, Sector 1 Gurgaon, Gurgaon, Haryana</td>\n",
       "      <td>Ground of 1 Floors</td>\n",
       "      <td>NaN</td>\n",
       "      <td>undefined</td>\n",
       "      <td>['Pooja Clinic', 'Dr. Sahil Clinic', 'Prakash ...</td>\n",
       "      <td>Best in class property available at sector 1 l...</td>\n",
       "      <td>NaN</td>\n",
       "      <td>NaN</td>\n",
       "      <td>NaN</td>\n",
       "    </tr>\n",
       "    <tr>\n",
       "      <th>1644</th>\n",
       "      <td>4 BHK Flat in Sector 50 Gurgaon</td>\n",
       "      <td>ss hibiscus</td>\n",
       "      <td>Price on Request</td>\n",
       "      <td>NaN</td>\n",
       "      <td>Carpet area: 4800 (445.93 sq.m.)</td>\n",
       "      <td>4 Bedrooms</td>\n",
       "      <td>4 Bathrooms</td>\n",
       "      <td>3 Balconies</td>\n",
       "      <td>Servant Room</td>\n",
       "      <td>Sector 50 Gurgaon, Gurgaon, Haryana</td>\n",
       "      <td>7th   of 18 Floors</td>\n",
       "      <td>East</td>\n",
       "      <td>5 to 10 Year Old</td>\n",
       "      <td>['Baani Square', 'SS Plaza', 'Good Earth City ...</td>\n",
       "      <td>4bedroom 4800sq.Ft middle floor apartment avai...</td>\n",
       "      <td>['4 Fan', '8 Light', 'No AC', 'No Bed', 'No Ch...</td>\n",
       "      <td>['Lift(s)', 'Water purifier', 'Swimming Pool',...</td>\n",
       "      <td>['Environment5 out of 5', 'Lifestyle5 out of 5...</td>\n",
       "    </tr>\n",
       "    <tr>\n",
       "      <th>1972</th>\n",
       "      <td>1 BHK Flat in Sector 31 Gurgaon</td>\n",
       "      <td>raheja atlantis</td>\n",
       "      <td>Price on Request</td>\n",
       "      <td>NaN</td>\n",
       "      <td>Carpet area: 650 (60.39 sq.m.)</td>\n",
       "      <td>1 Bedroom</td>\n",
       "      <td>1 Bathroom</td>\n",
       "      <td>1 Balcony</td>\n",
       "      <td>Pooja Room,Study Room,Servant Room</td>\n",
       "      <td>Yes, Sector 31 Gurgaon, Gurgaon, Haryana</td>\n",
       "      <td>3rd   of 15 Floors</td>\n",
       "      <td>East</td>\n",
       "      <td>0 to 1 Year Old</td>\n",
       "      <td>['Huda Metro Station', 'Reliance Fresh, Indira...</td>\n",
       "      <td>It is my property and good condition and good ...</td>\n",
       "      <td>NaN</td>\n",
       "      <td>['Feng Shui / Vaastu Compliant', 'Security / F...</td>\n",
       "      <td>['Green Area4 out of 5', 'Construction4 out of...</td>\n",
       "    </tr>\n",
       "    <tr>\n",
       "      <th>2054</th>\n",
       "      <td>2 BHK Flat in Sector 79 Gurgaon</td>\n",
       "      <td>supertech araville</td>\n",
       "      <td>Price on Request</td>\n",
       "      <td>NaN</td>\n",
       "      <td>Built Up area: 1295 (120.31 sq.m.)</td>\n",
       "      <td>2 Bedrooms</td>\n",
       "      <td>2 Bathrooms</td>\n",
       "      <td>No Balcony</td>\n",
       "      <td>NaN</td>\n",
       "      <td>Sector 79, Sector 79 Gurgaon, Gurgaon, Haryana</td>\n",
       "      <td>15th   of 15 Floors</td>\n",
       "      <td>NaN</td>\n",
       "      <td>undefined</td>\n",
       "      <td>NaN</td>\n",
       "      <td>2 bath, unfurnished, 15th floor (Of 18), super...</td>\n",
       "      <td>NaN</td>\n",
       "      <td>NaN</td>\n",
       "      <td>['Environment4 out of 5', 'Lifestyle3 out of 5...</td>\n",
       "    </tr>\n",
       "    <tr>\n",
       "      <th>2357</th>\n",
       "      <td>2 BHK Flat in Sector 37D Gurgaon</td>\n",
       "      <td>the millennia 2</td>\n",
       "      <td>Price on Request</td>\n",
       "      <td>NaN</td>\n",
       "      <td>Carpet area: 552 (51.28 sq.m.)</td>\n",
       "      <td>2 Bedrooms</td>\n",
       "      <td>1 Bathroom</td>\n",
       "      <td>1 Balcony</td>\n",
       "      <td>NaN</td>\n",
       "      <td>Sector 37D Gurgaon, Gurgaon, Haryana</td>\n",
       "      <td>13rd   of 13 Floors</td>\n",
       "      <td>NaN</td>\n",
       "      <td>undefined</td>\n",
       "      <td>['Shri Balaji Hospital and Trauma Center', 'Sh...</td>\n",
       "      <td>1 bath, unfurnished, 13th floor (Of 13), at se...</td>\n",
       "      <td>NaN</td>\n",
       "      <td>NaN</td>\n",
       "      <td>['Environment4 out of 5', 'Lifestyle4 out of 5...</td>\n",
       "    </tr>\n",
       "    <tr>\n",
       "      <th>2522</th>\n",
       "      <td>2 BHK Flat in Sector 95A Gurgaon</td>\n",
       "      <td>the roselia 2</td>\n",
       "      <td>Price on Request</td>\n",
       "      <td>NaN</td>\n",
       "      <td>Carpet area: 593 (55.09 sq.m.)</td>\n",
       "      <td>2 Bedrooms</td>\n",
       "      <td>2 Bathrooms</td>\n",
       "      <td>2 Balconies</td>\n",
       "      <td>NaN</td>\n",
       "      <td>Sector 95a, Pataudi Road, Sector 95A Gurgaon, ...</td>\n",
       "      <td>14th   of 14 Floors</td>\n",
       "      <td>NaN</td>\n",
       "      <td>undefined</td>\n",
       "      <td>NaN</td>\n",
       "      <td>Best in class property available at sector 95a...</td>\n",
       "      <td>NaN</td>\n",
       "      <td>NaN</td>\n",
       "      <td>['Environment5 out of 5', 'Lifestyle4.5 out of...</td>\n",
       "    </tr>\n",
       "    <tr>\n",
       "      <th>2549</th>\n",
       "      <td>3 BHK Flat in Sector-2 Sohna</td>\n",
       "      <td>supertech hilltown</td>\n",
       "      <td>Price on Request</td>\n",
       "      <td>NaN</td>\n",
       "      <td>Built Up area: 1720 (159.79 sq.m.)</td>\n",
       "      <td>3 Bedrooms</td>\n",
       "      <td>3 Bathrooms</td>\n",
       "      <td>3 Balconies</td>\n",
       "      <td>NaN</td>\n",
       "      <td>Sohna Sector 2,gurgaon, Sector-2 Sohna, Gurgao...</td>\n",
       "      <td>4th   of 4 Floors</td>\n",
       "      <td>North-East</td>\n",
       "      <td>undefined</td>\n",
       "      <td>NaN</td>\n",
       "      <td>3 bath, unfurnished, 4th floor (Of 4), overloo...</td>\n",
       "      <td>NaN</td>\n",
       "      <td>NaN</td>\n",
       "      <td>NaN</td>\n",
       "    </tr>\n",
       "    <tr>\n",
       "      <th>2640</th>\n",
       "      <td>2 BHK Flat in Sector 95A Gurgaon</td>\n",
       "      <td>the roselia 2</td>\n",
       "      <td>Price on Request</td>\n",
       "      <td>NaN</td>\n",
       "      <td>Carpet area: 593 (55.09 sq.m.)</td>\n",
       "      <td>2 Bedrooms</td>\n",
       "      <td>2 Bathrooms</td>\n",
       "      <td>2 Balconies</td>\n",
       "      <td>NaN</td>\n",
       "      <td>Sector 95a, Pataudi Road, Sector 95A Gurgaon, ...</td>\n",
       "      <td>14th   of 14 Floors</td>\n",
       "      <td>NaN</td>\n",
       "      <td>undefined</td>\n",
       "      <td>NaN</td>\n",
       "      <td>Best in class property available at sector 95a...</td>\n",
       "      <td>NaN</td>\n",
       "      <td>NaN</td>\n",
       "      <td>['Environment5 out of 5', 'Safety5 out of 5', ...</td>\n",
       "    </tr>\n",
       "    <tr>\n",
       "      <th>2959</th>\n",
       "      <td>3 BHK Flat in Sector 104 Gurgaon</td>\n",
       "      <td>godrej summit</td>\n",
       "      <td>Price on Request</td>\n",
       "      <td>NaN</td>\n",
       "      <td>Super Built up area 1647(153.01 sq.m.)Carpet a...</td>\n",
       "      <td>3 Bedrooms</td>\n",
       "      <td>3 Bathrooms</td>\n",
       "      <td>3 Balconies</td>\n",
       "      <td>NaN</td>\n",
       "      <td>1402, Sector 104 Gurgaon, Gurgaon, Haryana</td>\n",
       "      <td>14th   of 17 Floors</td>\n",
       "      <td>NaN</td>\n",
       "      <td>1 to 5 Year Old</td>\n",
       "      <td>['MG Road Metro Station', 'The Esplanade Mall'...</td>\n",
       "      <td>We are the proud owners of this 3 bhk apartmen...</td>\n",
       "      <td>[]</td>\n",
       "      <td>['Intercom Facility', 'Lift(s)', 'Maintenance ...</td>\n",
       "      <td>['Management3 out of 5', 'Green Area4.5 out of...</td>\n",
       "    </tr>\n",
       "    <tr>\n",
       "      <th>2972</th>\n",
       "      <td>4 BHK Flat in Gwal Pahari</td>\n",
       "      <td>krrish provence estate</td>\n",
       "      <td>Price on Request</td>\n",
       "      <td>NaN</td>\n",
       "      <td>Built Up area: 5800 (538.84 sq.m.)</td>\n",
       "      <td>4 Bedrooms</td>\n",
       "      <td>5 Bathrooms</td>\n",
       "      <td>1 Balcony</td>\n",
       "      <td>NaN</td>\n",
       "      <td>Gwal Pahari, Gurgaon, Haryana</td>\n",
       "      <td>17th   of 24 Floors</td>\n",
       "      <td>NaN</td>\n",
       "      <td>Under Construction</td>\n",
       "      <td>['Tniy Toons School', 'Pathways School Gurgoan...</td>\n",
       "      <td>Residential apartment for sell.Located on 17th...</td>\n",
       "      <td>NaN</td>\n",
       "      <td>NaN</td>\n",
       "      <td>NaN</td>\n",
       "    </tr>\n",
       "    <tr>\n",
       "      <th>2973</th>\n",
       "      <td>4 BHK Flat in Sector 95 Gurgaon</td>\n",
       "      <td>sidhartha ncr one phase</td>\n",
       "      <td>Price on Request</td>\n",
       "      <td>NaN</td>\n",
       "      <td>Super Built up area 2354(218.69 sq.m.)</td>\n",
       "      <td>4 Bedrooms</td>\n",
       "      <td>4 Bathrooms</td>\n",
       "      <td>3+ Balconies</td>\n",
       "      <td>NaN</td>\n",
       "      <td>Sector 95 Gurgaon, Gurgaon, Haryana</td>\n",
       "      <td>Ground of 3 Floors</td>\n",
       "      <td>North</td>\n",
       "      <td>Under Construction</td>\n",
       "      <td>['Yadav Clinic', 'Bangali Clinic', 'Dr. J. S. ...</td>\n",
       "      <td>North facing entry, Very good layout, Excellen...</td>\n",
       "      <td>[]</td>\n",
       "      <td>['Power Back-up', 'Feng Shui / Vaastu Complian...</td>\n",
       "      <td>['Management4 out of 5', 'Green Area4 out of 5...</td>\n",
       "    </tr>\n",
       "  </tbody>\n",
       "</table>\n",
       "</div>"
      ],
      "text/plain": [
       "                         property_name                    society  \\\n",
       "25      5 BHK Flat in Sector 1 Gurgaon  the new people apartments   \n",
       "1644   4 BHK Flat in Sector 50 Gurgaon                ss hibiscus   \n",
       "1972   1 BHK Flat in Sector 31 Gurgaon            raheja atlantis   \n",
       "2054   2 BHK Flat in Sector 79 Gurgaon         supertech araville   \n",
       "2357  2 BHK Flat in Sector 37D Gurgaon            the millennia 2   \n",
       "2522  2 BHK Flat in Sector 95A Gurgaon              the roselia 2   \n",
       "2549      3 BHK Flat in Sector-2 Sohna         supertech hilltown   \n",
       "2640  2 BHK Flat in Sector 95A Gurgaon              the roselia 2   \n",
       "2959  3 BHK Flat in Sector 104 Gurgaon              godrej summit   \n",
       "2972         4 BHK Flat in Gwal Pahari     krrish provence estate   \n",
       "2973   4 BHK Flat in Sector 95 Gurgaon    sidhartha ncr one phase   \n",
       "\n",
       "                 price price_per_sqft  \\\n",
       "25    Price on Request            NaN   \n",
       "1644  Price on Request            NaN   \n",
       "1972  Price on Request            NaN   \n",
       "2054  Price on Request            NaN   \n",
       "2357  Price on Request            NaN   \n",
       "2522  Price on Request            NaN   \n",
       "2549  Price on Request            NaN   \n",
       "2640  Price on Request            NaN   \n",
       "2959  Price on Request            NaN   \n",
       "2972  Price on Request            NaN   \n",
       "2973  Price on Request            NaN   \n",
       "\n",
       "                                           areaWithType     bedRoom  \\\n",
       "25                   Built Up area: 4500 (418.06 sq.m.)  5 Bedrooms   \n",
       "1644                   Carpet area: 4800 (445.93 sq.m.)  4 Bedrooms   \n",
       "1972                     Carpet area: 650 (60.39 sq.m.)   1 Bedroom   \n",
       "2054                 Built Up area: 1295 (120.31 sq.m.)  2 Bedrooms   \n",
       "2357                     Carpet area: 552 (51.28 sq.m.)  2 Bedrooms   \n",
       "2522                     Carpet area: 593 (55.09 sq.m.)  2 Bedrooms   \n",
       "2549                 Built Up area: 1720 (159.79 sq.m.)  3 Bedrooms   \n",
       "2640                     Carpet area: 593 (55.09 sq.m.)  2 Bedrooms   \n",
       "2959  Super Built up area 1647(153.01 sq.m.)Carpet a...  3 Bedrooms   \n",
       "2972                 Built Up area: 5800 (538.84 sq.m.)  4 Bedrooms   \n",
       "2973             Super Built up area 2354(218.69 sq.m.)  4 Bedrooms   \n",
       "\n",
       "         bathroom       balcony                      additionalRoom  \\\n",
       "25     1 Bathroom    No Balcony                                 NaN   \n",
       "1644  4 Bathrooms   3 Balconies                        Servant Room   \n",
       "1972   1 Bathroom     1 Balcony  Pooja Room,Study Room,Servant Room   \n",
       "2054  2 Bathrooms    No Balcony                                 NaN   \n",
       "2357   1 Bathroom     1 Balcony                                 NaN   \n",
       "2522  2 Bathrooms   2 Balconies                                 NaN   \n",
       "2549  3 Bathrooms   3 Balconies                                 NaN   \n",
       "2640  2 Bathrooms   2 Balconies                                 NaN   \n",
       "2959  3 Bathrooms   3 Balconies                                 NaN   \n",
       "2972  5 Bathrooms     1 Balcony                                 NaN   \n",
       "2973  4 Bathrooms  3+ Balconies                                 NaN   \n",
       "\n",
       "                                                address             floorNum  \\\n",
       "25         Sector 1, Sector 1 Gurgaon, Gurgaon, Haryana   Ground of 1 Floors   \n",
       "1644                Sector 50 Gurgaon, Gurgaon, Haryana   7th   of 18 Floors   \n",
       "1972           Yes, Sector 31 Gurgaon, Gurgaon, Haryana   3rd   of 15 Floors   \n",
       "2054     Sector 79, Sector 79 Gurgaon, Gurgaon, Haryana  15th   of 15 Floors   \n",
       "2357               Sector 37D Gurgaon, Gurgaon, Haryana  13rd   of 13 Floors   \n",
       "2522  Sector 95a, Pataudi Road, Sector 95A Gurgaon, ...  14th   of 14 Floors   \n",
       "2549  Sohna Sector 2,gurgaon, Sector-2 Sohna, Gurgao...    4th   of 4 Floors   \n",
       "2640  Sector 95a, Pataudi Road, Sector 95A Gurgaon, ...  14th   of 14 Floors   \n",
       "2959         1402, Sector 104 Gurgaon, Gurgaon, Haryana  14th   of 17 Floors   \n",
       "2972                      Gwal Pahari, Gurgaon, Haryana  17th   of 24 Floors   \n",
       "2973                Sector 95 Gurgaon, Gurgaon, Haryana   Ground of 3 Floors   \n",
       "\n",
       "          facing       agePossession  \\\n",
       "25           NaN           undefined   \n",
       "1644        East    5 to 10 Year Old   \n",
       "1972        East     0 to 1 Year Old   \n",
       "2054         NaN           undefined   \n",
       "2357         NaN           undefined   \n",
       "2522         NaN           undefined   \n",
       "2549  North-East           undefined   \n",
       "2640         NaN           undefined   \n",
       "2959         NaN     1 to 5 Year Old   \n",
       "2972         NaN  Under Construction   \n",
       "2973       North  Under Construction   \n",
       "\n",
       "                                        nearbyLocations  \\\n",
       "25    ['Pooja Clinic', 'Dr. Sahil Clinic', 'Prakash ...   \n",
       "1644  ['Baani Square', 'SS Plaza', 'Good Earth City ...   \n",
       "1972  ['Huda Metro Station', 'Reliance Fresh, Indira...   \n",
       "2054                                                NaN   \n",
       "2357  ['Shri Balaji Hospital and Trauma Center', 'Sh...   \n",
       "2522                                                NaN   \n",
       "2549                                                NaN   \n",
       "2640                                                NaN   \n",
       "2959  ['MG Road Metro Station', 'The Esplanade Mall'...   \n",
       "2972  ['Tniy Toons School', 'Pathways School Gurgoan...   \n",
       "2973  ['Yadav Clinic', 'Bangali Clinic', 'Dr. J. S. ...   \n",
       "\n",
       "                                            description  \\\n",
       "25    Best in class property available at sector 1 l...   \n",
       "1644  4bedroom 4800sq.Ft middle floor apartment avai...   \n",
       "1972  It is my property and good condition and good ...   \n",
       "2054  2 bath, unfurnished, 15th floor (Of 18), super...   \n",
       "2357  1 bath, unfurnished, 13th floor (Of 13), at se...   \n",
       "2522  Best in class property available at sector 95a...   \n",
       "2549  3 bath, unfurnished, 4th floor (Of 4), overloo...   \n",
       "2640  Best in class property available at sector 95a...   \n",
       "2959  We are the proud owners of this 3 bhk apartmen...   \n",
       "2972  Residential apartment for sell.Located on 17th...   \n",
       "2973  North facing entry, Very good layout, Excellen...   \n",
       "\n",
       "                                         furnishDetails  \\\n",
       "25                                                  NaN   \n",
       "1644  ['4 Fan', '8 Light', 'No AC', 'No Bed', 'No Ch...   \n",
       "1972                                                NaN   \n",
       "2054                                                NaN   \n",
       "2357                                                NaN   \n",
       "2522                                                NaN   \n",
       "2549                                                NaN   \n",
       "2640                                                NaN   \n",
       "2959                                                 []   \n",
       "2972                                                NaN   \n",
       "2973                                                 []   \n",
       "\n",
       "                                               features  \\\n",
       "25                                                  NaN   \n",
       "1644  ['Lift(s)', 'Water purifier', 'Swimming Pool',...   \n",
       "1972  ['Feng Shui / Vaastu Compliant', 'Security / F...   \n",
       "2054                                                NaN   \n",
       "2357                                                NaN   \n",
       "2522                                                NaN   \n",
       "2549                                                NaN   \n",
       "2640                                                NaN   \n",
       "2959  ['Intercom Facility', 'Lift(s)', 'Maintenance ...   \n",
       "2972                                                NaN   \n",
       "2973  ['Power Back-up', 'Feng Shui / Vaastu Complian...   \n",
       "\n",
       "                                                 rating  \n",
       "25                                                  NaN  \n",
       "1644  ['Environment5 out of 5', 'Lifestyle5 out of 5...  \n",
       "1972  ['Green Area4 out of 5', 'Construction4 out of...  \n",
       "2054  ['Environment4 out of 5', 'Lifestyle3 out of 5...  \n",
       "2357  ['Environment4 out of 5', 'Lifestyle4 out of 5...  \n",
       "2522  ['Environment5 out of 5', 'Lifestyle4.5 out of...  \n",
       "2549                                                NaN  \n",
       "2640  ['Environment5 out of 5', 'Safety5 out of 5', ...  \n",
       "2959  ['Management3 out of 5', 'Green Area4.5 out of...  \n",
       "2972                                                NaN  \n",
       "2973  ['Management4 out of 5', 'Green Area4 out of 5...  "
      ]
     },
     "execution_count": 38,
     "metadata": {},
     "output_type": "execute_result"
    }
   ],
   "source": [
    "df_copy[df_copy['price'] == 'Price on Request']"
   ]
  },
  {
   "cell_type": "code",
   "execution_count": 39,
   "id": "6f13da76-64d6-4ac4-a6ee-aa2e88636fdb",
   "metadata": {},
   "outputs": [
    {
     "data": {
      "text/plain": [
       "(11, 18)"
      ]
     },
     "execution_count": 39,
     "metadata": {},
     "output_type": "execute_result"
    }
   ],
   "source": [
    "df_copy[df_copy['price'] == 'Price on Request'].shape"
   ]
  },
  {
   "cell_type": "code",
   "execution_count": 40,
   "id": "4cff06d5-67d0-4feb-8ab6-5bd0db7bbbfb",
   "metadata": {},
   "outputs": [],
   "source": [
    "df_copy = df_copy[df_copy['price'] != 'Price on Request']"
   ]
  },
  {
   "cell_type": "code",
   "execution_count": 41,
   "id": "1015f9a0-b35a-4010-8280-ec078e9f04e5",
   "metadata": {},
   "outputs": [
    {
     "data": {
      "text/html": [
       "<div>\n",
       "<style scoped>\n",
       "    .dataframe tbody tr th:only-of-type {\n",
       "        vertical-align: middle;\n",
       "    }\n",
       "\n",
       "    .dataframe tbody tr th {\n",
       "        vertical-align: top;\n",
       "    }\n",
       "\n",
       "    .dataframe thead th {\n",
       "        text-align: right;\n",
       "    }\n",
       "</style>\n",
       "<table border=\"1\" class=\"dataframe\">\n",
       "  <thead>\n",
       "    <tr style=\"text-align: right;\">\n",
       "      <th></th>\n",
       "      <th>property_name</th>\n",
       "      <th>society</th>\n",
       "      <th>price</th>\n",
       "      <th>price_per_sqft</th>\n",
       "      <th>areaWithType</th>\n",
       "      <th>bedRoom</th>\n",
       "      <th>bathroom</th>\n",
       "      <th>balcony</th>\n",
       "      <th>additionalRoom</th>\n",
       "      <th>address</th>\n",
       "      <th>floorNum</th>\n",
       "      <th>facing</th>\n",
       "      <th>agePossession</th>\n",
       "      <th>nearbyLocations</th>\n",
       "      <th>description</th>\n",
       "      <th>furnishDetails</th>\n",
       "      <th>features</th>\n",
       "      <th>rating</th>\n",
       "    </tr>\n",
       "  </thead>\n",
       "  <tbody>\n",
       "    <tr>\n",
       "      <th>1473</th>\n",
       "      <td>4 BHK Flat in Sector 110 Gurgaon</td>\n",
       "      <td>indiabulls enigma</td>\n",
       "      <td>3.7 Crore</td>\n",
       "      <td>₹ 10,882/sq.ft.</td>\n",
       "      <td>Super Built up area 3400(315.87 sq.m.)</td>\n",
       "      <td>4 Bedrooms</td>\n",
       "      <td>5 Bathrooms</td>\n",
       "      <td>3 Balconies</td>\n",
       "      <td>Servant Room</td>\n",
       "      <td>Sector 110 Gurgaon, Gurgaon, Haryana</td>\n",
       "      <td>7th   of 21 Floors</td>\n",
       "      <td>South-West</td>\n",
       "      <td>1 to 5 Year Old</td>\n",
       "      <td>['Dwarka Sector 21 Metro Station', 'Gurgaon Dr...</td>\n",
       "      <td>This beautiful 4 bhk flat in sector 110 gurgao...</td>\n",
       "      <td>['13 Light', '8 AC', '1 Modular Kitchen', 'No ...</td>\n",
       "      <td>['Water purifier', 'Security / Fire Alarm', 'F...</td>\n",
       "      <td>['Environment4 out of 5', 'Lifestyle4 out of 5...</td>\n",
       "    </tr>\n",
       "  </tbody>\n",
       "</table>\n",
       "</div>"
      ],
      "text/plain": [
       "                         property_name            society      price  \\\n",
       "1473  4 BHK Flat in Sector 110 Gurgaon  indiabulls enigma  3.7 Crore   \n",
       "\n",
       "       price_per_sqft                            areaWithType     bedRoom  \\\n",
       "1473  ₹ 10,882/sq.ft.  Super Built up area 3400(315.87 sq.m.)  4 Bedrooms   \n",
       "\n",
       "         bathroom      balcony additionalRoom  \\\n",
       "1473  5 Bathrooms  3 Balconies   Servant Room   \n",
       "\n",
       "                                   address            floorNum      facing  \\\n",
       "1473  Sector 110 Gurgaon, Gurgaon, Haryana  7th   of 21 Floors  South-West   \n",
       "\n",
       "        agePossession                                    nearbyLocations  \\\n",
       "1473  1 to 5 Year Old  ['Dwarka Sector 21 Metro Station', 'Gurgaon Dr...   \n",
       "\n",
       "                                            description  \\\n",
       "1473  This beautiful 4 bhk flat in sector 110 gurgao...   \n",
       "\n",
       "                                         furnishDetails  \\\n",
       "1473  ['13 Light', '8 AC', '1 Modular Kitchen', 'No ...   \n",
       "\n",
       "                                               features  \\\n",
       "1473  ['Water purifier', 'Security / Fire Alarm', 'F...   \n",
       "\n",
       "                                                 rating  \n",
       "1473  ['Environment4 out of 5', 'Lifestyle4 out of 5...  "
      ]
     },
     "execution_count": 41,
     "metadata": {},
     "output_type": "execute_result"
    }
   ],
   "source": [
    "df_copy.sample()"
   ]
  },
  {
   "cell_type": "code",
   "execution_count": 44,
   "id": "36f709da-adb2-4fd0-9c67-edb019e626b2",
   "metadata": {},
   "outputs": [],
   "source": [
    "def treat_price(x):\n",
    "\n",
    "    if type(x) == float:\n",
    "        return x\n",
    "    else:\n",
    "        if x[1] == 'Lac':\n",
    "            return round(float(x[0]) / 100, 2)\n",
    "        else:\n",
    "            return round(float(x[0]), 2)"
   ]
  },
  {
   "cell_type": "code",
   "execution_count": 45,
   "id": "17b2b0e1-3b20-453d-b9bd-03f0607f337a",
   "metadata": {},
   "outputs": [],
   "source": [
    "df_copy['price'] = df_copy['price'].str.split(' ').apply(treat_price)"
   ]
  },
  {
   "cell_type": "code",
   "execution_count": 46,
   "id": "c09a02b5-272e-4d01-8dc5-15f2d0b7f054",
   "metadata": {},
   "outputs": [
    {
     "data": {
      "text/html": [
       "<div>\n",
       "<style scoped>\n",
       "    .dataframe tbody tr th:only-of-type {\n",
       "        vertical-align: middle;\n",
       "    }\n",
       "\n",
       "    .dataframe tbody tr th {\n",
       "        vertical-align: top;\n",
       "    }\n",
       "\n",
       "    .dataframe thead th {\n",
       "        text-align: right;\n",
       "    }\n",
       "</style>\n",
       "<table border=\"1\" class=\"dataframe\">\n",
       "  <thead>\n",
       "    <tr style=\"text-align: right;\">\n",
       "      <th></th>\n",
       "      <th>property_name</th>\n",
       "      <th>society</th>\n",
       "      <th>price</th>\n",
       "      <th>price_per_sqft</th>\n",
       "      <th>areaWithType</th>\n",
       "      <th>bedRoom</th>\n",
       "      <th>bathroom</th>\n",
       "      <th>balcony</th>\n",
       "      <th>additionalRoom</th>\n",
       "      <th>address</th>\n",
       "      <th>floorNum</th>\n",
       "      <th>facing</th>\n",
       "      <th>agePossession</th>\n",
       "      <th>nearbyLocations</th>\n",
       "      <th>description</th>\n",
       "      <th>furnishDetails</th>\n",
       "      <th>features</th>\n",
       "      <th>rating</th>\n",
       "    </tr>\n",
       "  </thead>\n",
       "  <tbody>\n",
       "    <tr>\n",
       "      <th>2517</th>\n",
       "      <td>3 BHK Flat in Sector 95 Gurgaon</td>\n",
       "      <td>ramsons kshitij</td>\n",
       "      <td>0.4</td>\n",
       "      <td>₹ 5,839/sq.ft.</td>\n",
       "      <td>Carpet area: 685 (63.64 sq.m.)</td>\n",
       "      <td>3 Bedrooms</td>\n",
       "      <td>2 Bathrooms</td>\n",
       "      <td>2 Balconies</td>\n",
       "      <td>NaN</td>\n",
       "      <td>Sector 95, Sector 95 Gurgaon, Gurgaon, Haryana</td>\n",
       "      <td>6th   of 6 Floors</td>\n",
       "      <td>NaN</td>\n",
       "      <td>undefined</td>\n",
       "      <td>NaN</td>\n",
       "      <td>Multistorey apartment is available for sale. I...</td>\n",
       "      <td>NaN</td>\n",
       "      <td>NaN</td>\n",
       "      <td>['Green Area4 out of 5', 'Construction4 out of...</td>\n",
       "    </tr>\n",
       "  </tbody>\n",
       "</table>\n",
       "</div>"
      ],
      "text/plain": [
       "                        property_name          society  price  price_per_sqft  \\\n",
       "2517  3 BHK Flat in Sector 95 Gurgaon  ramsons kshitij    0.4  ₹ 5,839/sq.ft.   \n",
       "\n",
       "                        areaWithType     bedRoom     bathroom      balcony  \\\n",
       "2517  Carpet area: 685 (63.64 sq.m.)  3 Bedrooms  2 Bathrooms  2 Balconies   \n",
       "\n",
       "     additionalRoom                                         address  \\\n",
       "2517            NaN  Sector 95, Sector 95 Gurgaon, Gurgaon, Haryana   \n",
       "\n",
       "               floorNum facing agePossession nearbyLocations  \\\n",
       "2517  6th   of 6 Floors    NaN     undefined             NaN   \n",
       "\n",
       "                                            description furnishDetails  \\\n",
       "2517  Multistorey apartment is available for sale. I...            NaN   \n",
       "\n",
       "     features                                             rating  \n",
       "2517      NaN  ['Green Area4 out of 5', 'Construction4 out of...  "
      ]
     },
     "execution_count": 46,
     "metadata": {},
     "output_type": "execute_result"
    }
   ],
   "source": [
    "df_copy.sample()"
   ]
  },
  {
   "cell_type": "code",
   "execution_count": 47,
   "id": "64b905ff-085c-451e-b218-63900a7a2361",
   "metadata": {},
   "outputs": [
    {
     "data": {
      "text/plain": [
       "price_per_sqft\n",
       "₹ 10,000/sq.ft.    19\n",
       "₹ 8,000/sq.ft.     16\n",
       "₹ 12,500/sq.ft.    16\n",
       "₹ 6,666/sq.ft.     13\n",
       "₹ 5,000/sq.ft.     13\n",
       "                   ..\n",
       "₹ 20,602/sq.ft.     1\n",
       "₹ 12,401/sq.ft.     1\n",
       "₹ 6,224/sq.ft.      1\n",
       "₹ 8,179/sq.ft.      1\n",
       "₹ 35,222/sq.ft.     1\n",
       "Name: count, Length: 2130, dtype: int64"
      ]
     },
     "execution_count": 47,
     "metadata": {},
     "output_type": "execute_result"
    }
   ],
   "source": [
    "df_copy.price_per_sqft.value_counts()"
   ]
  },
  {
   "cell_type": "code",
   "execution_count": 68,
   "id": "67af8879-8938-4652-a38a-5e767a6f84d0",
   "metadata": {},
   "outputs": [],
   "source": [
    "df_copy['price_per_sqft'] = df_copy.price_per_sqft. \\\n",
    "                                                str.split('/'). \\\n",
    "                                                str.get(0). \\\n",
    "                                                str.replace('₹', '').\\\n",
    "                                                str.replace(',', '').\\\n",
    "                                                str.strip().astype('float')"
   ]
  },
  {
   "cell_type": "code",
   "execution_count": 69,
   "id": "1362daf0-6f8c-403c-837e-907f2c773433",
   "metadata": {},
   "outputs": [
    {
     "data": {
      "text/html": [
       "<div>\n",
       "<style scoped>\n",
       "    .dataframe tbody tr th:only-of-type {\n",
       "        vertical-align: middle;\n",
       "    }\n",
       "\n",
       "    .dataframe tbody tr th {\n",
       "        vertical-align: top;\n",
       "    }\n",
       "\n",
       "    .dataframe thead th {\n",
       "        text-align: right;\n",
       "    }\n",
       "</style>\n",
       "<table border=\"1\" class=\"dataframe\">\n",
       "  <thead>\n",
       "    <tr style=\"text-align: right;\">\n",
       "      <th></th>\n",
       "      <th>property_name</th>\n",
       "      <th>society</th>\n",
       "      <th>price</th>\n",
       "      <th>price_per_sqft</th>\n",
       "      <th>areaWithType</th>\n",
       "      <th>bedRoom</th>\n",
       "      <th>bathroom</th>\n",
       "      <th>balcony</th>\n",
       "      <th>additionalRoom</th>\n",
       "      <th>address</th>\n",
       "      <th>floorNum</th>\n",
       "      <th>facing</th>\n",
       "      <th>agePossession</th>\n",
       "      <th>nearbyLocations</th>\n",
       "      <th>description</th>\n",
       "      <th>furnishDetails</th>\n",
       "      <th>features</th>\n",
       "      <th>rating</th>\n",
       "    </tr>\n",
       "  </thead>\n",
       "  <tbody>\n",
       "    <tr>\n",
       "      <th>2374</th>\n",
       "      <td>2 BHK Flat in Sector 86 Gurgaon</td>\n",
       "      <td>pyramid urban homes 2</td>\n",
       "      <td>0.5</td>\n",
       "      <td>9698.0</td>\n",
       "      <td>Carpet area: 515.57 (47.9 sq.m.)</td>\n",
       "      <td>2 Bedrooms</td>\n",
       "      <td>2 Bathrooms</td>\n",
       "      <td>2 Balconies</td>\n",
       "      <td>NaN</td>\n",
       "      <td>601 Tower-2, Sector 86 Gurgaon, Gurgaon, Haryana</td>\n",
       "      <td>6th   of 15 Floors</td>\n",
       "      <td>NaN</td>\n",
       "      <td>10+ Year Old</td>\n",
       "      <td>['Sapphire 83 Mall', 'Rampura Flyover, Naurang...</td>\n",
       "      <td>This 2 bhk flat is located in pyramid urban ho...</td>\n",
       "      <td>NaN</td>\n",
       "      <td>['Lift(s)', 'Park', 'Shopping Centre']</td>\n",
       "      <td>['Environment5 out of 5', 'Lifestyle5 out of 5...</td>\n",
       "    </tr>\n",
       "  </tbody>\n",
       "</table>\n",
       "</div>"
      ],
      "text/plain": [
       "                        property_name                society  price  \\\n",
       "2374  2 BHK Flat in Sector 86 Gurgaon  pyramid urban homes 2    0.5   \n",
       "\n",
       "      price_per_sqft                      areaWithType     bedRoom  \\\n",
       "2374          9698.0  Carpet area: 515.57 (47.9 sq.m.)  2 Bedrooms   \n",
       "\n",
       "         bathroom      balcony additionalRoom  \\\n",
       "2374  2 Bathrooms  2 Balconies            NaN   \n",
       "\n",
       "                                               address            floorNum  \\\n",
       "2374  601 Tower-2, Sector 86 Gurgaon, Gurgaon, Haryana  6th   of 15 Floors   \n",
       "\n",
       "     facing agePossession                                    nearbyLocations  \\\n",
       "2374    NaN  10+ Year Old  ['Sapphire 83 Mall', 'Rampura Flyover, Naurang...   \n",
       "\n",
       "                                            description furnishDetails  \\\n",
       "2374  This 2 bhk flat is located in pyramid urban ho...            NaN   \n",
       "\n",
       "                                    features  \\\n",
       "2374  ['Lift(s)', 'Park', 'Shopping Centre']   \n",
       "\n",
       "                                                 rating  \n",
       "2374  ['Environment5 out of 5', 'Lifestyle5 out of 5...  "
      ]
     },
     "execution_count": 69,
     "metadata": {},
     "output_type": "execute_result"
    }
   ],
   "source": [
    "df_copy.sample()"
   ]
  },
  {
   "cell_type": "markdown",
   "id": "a949667c-f774-40d3-b7c6-2c0845fc6195",
   "metadata": {},
   "source": [
    "# area with type column"
   ]
  },
  {
   "cell_type": "code",
   "execution_count": null,
   "id": "723da578-5bc4-484e-88b4-82051e00b1d2",
   "metadata": {},
   "outputs": [],
   "source": []
  },
  {
   "cell_type": "code",
   "execution_count": null,
   "id": "2287cdfd-33c4-4684-b522-65c3c4e84350",
   "metadata": {},
   "outputs": [],
   "source": []
  },
  {
   "cell_type": "code",
   "execution_count": 71,
   "id": "0175a2c8-3046-45c5-9d5c-b74f6a2f2901",
   "metadata": {},
   "outputs": [
    {
     "data": {
      "text/plain": [
       "bedRoom\n",
       "3 Bedrooms    1437\n",
       "2 Bedrooms     944\n",
       "4 Bedrooms     478\n",
       "1 Bedroom      104\n",
       "5 Bedrooms      31\n",
       "6 Bedrooms       3\n",
       "Name: count, dtype: int64"
      ]
     },
     "execution_count": 71,
     "metadata": {},
     "output_type": "execute_result"
    }
   ],
   "source": [
    "df_copy.bedRoom.value_counts()"
   ]
  },
  {
   "cell_type": "code",
   "execution_count": 85,
   "id": "84e64402-8bbc-47c7-9fd6-9b916fc4c8c6",
   "metadata": {},
   "outputs": [
    {
     "data": {
      "text/plain": [
       "(9, 18)"
      ]
     },
     "execution_count": 85,
     "metadata": {},
     "output_type": "execute_result"
    }
   ],
   "source": [
    "# other column values are also missing here so, cant be predicted\n",
    "# df_copy[df_copy.bedRoom.isnull()]\n",
    "df_copy[df_copy.bedRoom.isnull()].shape"
   ]
  },
  {
   "cell_type": "code",
   "execution_count": 86,
   "id": "2b914864-aab8-4222-8e46-5db40d87858f",
   "metadata": {},
   "outputs": [],
   "source": [
    "df_copy = df_copy[~df_copy['bedRoom'].isnull()]"
   ]
  },
  {
   "cell_type": "code",
   "execution_count": 87,
   "id": "73037c0f-2664-4479-b3c7-b5d48ad05dbc",
   "metadata": {},
   "outputs": [
    {
     "data": {
      "text/html": [
       "<div>\n",
       "<style scoped>\n",
       "    .dataframe tbody tr th:only-of-type {\n",
       "        vertical-align: middle;\n",
       "    }\n",
       "\n",
       "    .dataframe tbody tr th {\n",
       "        vertical-align: top;\n",
       "    }\n",
       "\n",
       "    .dataframe thead th {\n",
       "        text-align: right;\n",
       "    }\n",
       "</style>\n",
       "<table border=\"1\" class=\"dataframe\">\n",
       "  <thead>\n",
       "    <tr style=\"text-align: right;\">\n",
       "      <th></th>\n",
       "      <th>property_name</th>\n",
       "      <th>society</th>\n",
       "      <th>price</th>\n",
       "      <th>price_per_sqft</th>\n",
       "      <th>areaWithType</th>\n",
       "      <th>bedRoom</th>\n",
       "      <th>bathroom</th>\n",
       "      <th>balcony</th>\n",
       "      <th>additionalRoom</th>\n",
       "      <th>address</th>\n",
       "      <th>floorNum</th>\n",
       "      <th>facing</th>\n",
       "      <th>agePossession</th>\n",
       "      <th>nearbyLocations</th>\n",
       "      <th>description</th>\n",
       "      <th>furnishDetails</th>\n",
       "      <th>features</th>\n",
       "      <th>rating</th>\n",
       "    </tr>\n",
       "  </thead>\n",
       "  <tbody>\n",
       "    <tr>\n",
       "      <th>606</th>\n",
       "      <td>3 BHK Flat in Sector 56 Gurgaon</td>\n",
       "      <td>shri banke bihari society</td>\n",
       "      <td>1.37</td>\n",
       "      <td>9133.0</td>\n",
       "      <td>Super Built up area 1500(139.35 sq.m.)Built Up...</td>\n",
       "      <td>3 Bedrooms</td>\n",
       "      <td>3 Bathrooms</td>\n",
       "      <td>3+ Balconies</td>\n",
       "      <td>Others</td>\n",
       "      <td>Sector 56, Sector 56 Gurgaon, Gurgaon, Haryana</td>\n",
       "      <td>2nd   of 9 Floors</td>\n",
       "      <td>North-East</td>\n",
       "      <td>10+ Year Old</td>\n",
       "      <td>['Sector metro station', 'Sector metro station...</td>\n",
       "      <td>This beautiful 3 bhk flat in sector 56 gurgaon...</td>\n",
       "      <td>NaN</td>\n",
       "      <td>['Centrally Air Conditioned', 'Water purifier'...</td>\n",
       "      <td>['Green Area4 out of 5', 'Construction5 out of...</td>\n",
       "    </tr>\n",
       "    <tr>\n",
       "      <th>1675</th>\n",
       "      <td>3 BHK Flat in Sector 70A Gurgaon</td>\n",
       "      <td>aipl the peaceful homes</td>\n",
       "      <td>2.30</td>\n",
       "      <td>10697.0</td>\n",
       "      <td>Super Built up area 2150(199.74 sq.m.)</td>\n",
       "      <td>3 Bedrooms</td>\n",
       "      <td>3 Bathrooms</td>\n",
       "      <td>3 Balconies</td>\n",
       "      <td>Store Room</td>\n",
       "      <td>Sector 70A Gurgaon, Gurgaon, Haryana</td>\n",
       "      <td>3rd   of 30 Floors</td>\n",
       "      <td>North-East</td>\n",
       "      <td>1 to 5 Year Old</td>\n",
       "      <td>['Airia Mall', 'Golf Corse Ext. Rd.', 'Nationa...</td>\n",
       "      <td>This 3 bhk flat is located in aipl the peacefu...</td>\n",
       "      <td>['3 Wardrobe', '5 Fan', '1 Exhaust Fan', '3 Ge...</td>\n",
       "      <td>['Security / Fire Alarm', 'Power Back-up', 'Fe...</td>\n",
       "      <td>['Green Area5 out of 5', 'Construction4.5 out ...</td>\n",
       "    </tr>\n",
       "  </tbody>\n",
       "</table>\n",
       "</div>"
      ],
      "text/plain": [
       "                         property_name                    society  price  \\\n",
       "606    3 BHK Flat in Sector 56 Gurgaon  shri banke bihari society   1.37   \n",
       "1675  3 BHK Flat in Sector 70A Gurgaon    aipl the peaceful homes   2.30   \n",
       "\n",
       "      price_per_sqft                                       areaWithType  \\\n",
       "606           9133.0  Super Built up area 1500(139.35 sq.m.)Built Up...   \n",
       "1675         10697.0             Super Built up area 2150(199.74 sq.m.)   \n",
       "\n",
       "         bedRoom     bathroom       balcony additionalRoom  \\\n",
       "606   3 Bedrooms  3 Bathrooms  3+ Balconies         Others   \n",
       "1675  3 Bedrooms  3 Bathrooms   3 Balconies     Store Room   \n",
       "\n",
       "                                             address            floorNum  \\\n",
       "606   Sector 56, Sector 56 Gurgaon, Gurgaon, Haryana   2nd   of 9 Floors   \n",
       "1675            Sector 70A Gurgaon, Gurgaon, Haryana  3rd   of 30 Floors   \n",
       "\n",
       "          facing    agePossession  \\\n",
       "606   North-East     10+ Year Old   \n",
       "1675  North-East  1 to 5 Year Old   \n",
       "\n",
       "                                        nearbyLocations  \\\n",
       "606   ['Sector metro station', 'Sector metro station...   \n",
       "1675  ['Airia Mall', 'Golf Corse Ext. Rd.', 'Nationa...   \n",
       "\n",
       "                                            description  \\\n",
       "606   This beautiful 3 bhk flat in sector 56 gurgaon...   \n",
       "1675  This 3 bhk flat is located in aipl the peacefu...   \n",
       "\n",
       "                                         furnishDetails  \\\n",
       "606                                                 NaN   \n",
       "1675  ['3 Wardrobe', '5 Fan', '1 Exhaust Fan', '3 Ge...   \n",
       "\n",
       "                                               features  \\\n",
       "606   ['Centrally Air Conditioned', 'Water purifier'...   \n",
       "1675  ['Security / Fire Alarm', 'Power Back-up', 'Fe...   \n",
       "\n",
       "                                                 rating  \n",
       "606   ['Green Area4 out of 5', 'Construction5 out of...  \n",
       "1675  ['Green Area5 out of 5', 'Construction4.5 out ...  "
      ]
     },
     "execution_count": 87,
     "metadata": {},
     "output_type": "execute_result"
    }
   ],
   "source": [
    "df_copy[(df_copy['bedRoom'] == '3 Bedrooms') & (df_copy['price'] > 1)].sample(2)"
   ]
  },
  {
   "cell_type": "code",
   "execution_count": 89,
   "id": "fc8297bb-37ea-43ad-a232-e79b6ccf92e6",
   "metadata": {},
   "outputs": [
    {
     "name": "stderr",
     "output_type": "stream",
     "text": [
      "C:\\Users\\Lenovo\\AppData\\Local\\Temp\\ipykernel_9160\\36225977.py:1: SettingWithCopyWarning: \n",
      "A value is trying to be set on a copy of a slice from a DataFrame.\n",
      "Try using .loc[row_indexer,col_indexer] = value instead\n",
      "\n",
      "See the caveats in the documentation: https://pandas.pydata.org/pandas-docs/stable/user_guide/indexing.html#returning-a-view-versus-a-copy\n",
      "  df_copy.bedRoom = df_copy.bedRoom.str.split(' ').str.get(0).str.strip().astype('float')\n"
     ]
    }
   ],
   "source": [
    "df_copy.bedRoom = df_copy.bedRoom.str.split(' ').str.get(0).str.strip().astype('float')"
   ]
  },
  {
   "cell_type": "code",
   "execution_count": null,
   "id": "562e4906-fdbe-4b8e-a598-dcec93f92157",
   "metadata": {},
   "outputs": [],
   "source": []
  },
  {
   "cell_type": "code",
   "execution_count": 92,
   "id": "fd1810f1-82e7-4728-b609-19f55d72dff1",
   "metadata": {},
   "outputs": [
    {
     "data": {
      "text/plain": [
       "bathroom\n",
       "2 Bathrooms    1044\n",
       "3 Bathrooms     989\n",
       "4 Bathrooms     636\n",
       "5 Bathrooms     169\n",
       "1 Bathroom      112\n",
       "6 Bathrooms      42\n",
       "7 Bathrooms       5\n",
       "Name: count, dtype: int64"
      ]
     },
     "execution_count": 92,
     "metadata": {},
     "output_type": "execute_result"
    }
   ],
   "source": [
    "# bathroom\n",
    "df_copy['bathroom'].value_counts()"
   ]
  },
  {
   "cell_type": "code",
   "execution_count": 93,
   "id": "2594dcbb-946e-4f54-9c61-79506e6dd498",
   "metadata": {},
   "outputs": [
    {
     "data": {
      "text/plain": [
       "np.int64(0)"
      ]
     },
     "execution_count": 93,
     "metadata": {},
     "output_type": "execute_result"
    }
   ],
   "source": [
    "df_copy['bathroom'].isnull().sum()"
   ]
  },
  {
   "cell_type": "code",
   "execution_count": 94,
   "id": "c442e659-24fc-4ce1-80c0-2d2a7a6470c9",
   "metadata": {},
   "outputs": [
    {
     "name": "stderr",
     "output_type": "stream",
     "text": [
      "C:\\Users\\Lenovo\\AppData\\Local\\Temp\\ipykernel_9160\\1158620989.py:1: SettingWithCopyWarning: \n",
      "A value is trying to be set on a copy of a slice from a DataFrame.\n",
      "Try using .loc[row_indexer,col_indexer] = value instead\n",
      "\n",
      "See the caveats in the documentation: https://pandas.pydata.org/pandas-docs/stable/user_guide/indexing.html#returning-a-view-versus-a-copy\n",
      "  df_copy['bathroom'] = df_copy['bathroom'].str.split(' ').str.get(0).astype('float')\n"
     ]
    }
   ],
   "source": [
    "df_copy['bathroom'] = df_copy['bathroom'].str.split(' ').str.get(0).astype('float')"
   ]
  },
  {
   "cell_type": "code",
   "execution_count": 95,
   "id": "094d0627-879d-4088-9613-3ed46a8adb08",
   "metadata": {},
   "outputs": [
    {
     "data": {
      "text/plain": [
       "balcony\n",
       "3 Balconies     974\n",
       "3+ Balconies    862\n",
       "2 Balconies     749\n",
       "1 Balcony       315\n",
       "No Balcony       97\n",
       "Name: count, dtype: int64"
      ]
     },
     "execution_count": 95,
     "metadata": {},
     "output_type": "execute_result"
    }
   ],
   "source": [
    "# balcony\n",
    "df_copy['balcony'].value_counts()"
   ]
  },
  {
   "cell_type": "code",
   "execution_count": 96,
   "id": "e552e57b-e035-4e80-8b41-c032810acb05",
   "metadata": {},
   "outputs": [
    {
     "data": {
      "text/plain": [
       "np.int64(0)"
      ]
     },
     "execution_count": 96,
     "metadata": {},
     "output_type": "execute_result"
    }
   ],
   "source": [
    "df_copy['balcony'].isnull().sum()"
   ]
  },
  {
   "cell_type": "code",
   "execution_count": 97,
   "id": "e1cf645f-89a9-42c2-a966-5dd58865e07b",
   "metadata": {},
   "outputs": [
    {
     "name": "stderr",
     "output_type": "stream",
     "text": [
      "C:\\Users\\Lenovo\\AppData\\Local\\Temp\\ipykernel_9160\\3877059218.py:1: SettingWithCopyWarning: \n",
      "A value is trying to be set on a copy of a slice from a DataFrame.\n",
      "Try using .loc[row_indexer,col_indexer] = value instead\n",
      "\n",
      "See the caveats in the documentation: https://pandas.pydata.org/pandas-docs/stable/user_guide/indexing.html#returning-a-view-versus-a-copy\n",
      "  df_copy['balcony'] = df_copy['balcony'].str.split(' ').str.get(0).str.replace('No','0')\n"
     ]
    }
   ],
   "source": [
    "df_copy['balcony'] = df_copy['balcony'].str.split(' ').str.get(0).str.replace('No','0')"
   ]
  },
  {
   "cell_type": "code",
   "execution_count": 98,
   "id": "515c63ab-d5c1-4e9b-991d-75e29ab9c973",
   "metadata": {},
   "outputs": [
    {
     "data": {
      "text/plain": [
       "additionalRoom\n",
       "Servant Room                                     629\n",
       "Study Room                                       232\n",
       "Others                                           179\n",
       "Pooja Room                                       132\n",
       "Study Room,Servant Room                           81\n",
       "Store Room                                        76\n",
       "Pooja Room,Servant Room                           60\n",
       "Servant Room,Others                               52\n",
       "Servant Room,Pooja Room                           30\n",
       "Study Room,Others                                 27\n",
       "Pooja Room,Study Room,Servant Room,Others         25\n",
       "Pooja Room,Study Room,Servant Room                24\n",
       "Servant Room,Store Room                           19\n",
       "Pooja Room,Study Room                             13\n",
       "Pooja Room,Study Room,Servant Room,Store Room     12\n",
       "Study Room,Pooja Room                              8\n",
       "Servant Room,Study Room                            8\n",
       "Study Room,Servant Room,Store Room                 7\n",
       "Pooja Room,Store Room                              6\n",
       "Pooja Room,Others                                  6\n",
       "Others,Servant Room                                6\n",
       "Servant Room,Study Room,Pooja Room,Store Room      6\n",
       "Pooja Room,Servant Room,Others                     6\n",
       "Study Room,Servant Room,Others                     5\n",
       "Pooja Room,Store Room,Study Room,Servant Room      4\n",
       "Pooja Room,Study Room,Store Room                   4\n",
       "Servant Room,Pooja Room,Study Room,Store Room      3\n",
       "Study Room,Pooja Room,Store Room                   3\n",
       "Store Room,Servant Room                            3\n",
       "Servant Room,Study Room,Store Room                 2\n",
       "Pooja Room,Study Room,Others                       2\n",
       "Study Room,Pooja Room,Servant Room                 2\n",
       "Servant Room,Others,Store Room,Pooja Room          2\n",
       "Servant Room,Others,Pooja Room                     2\n",
       "Study Room,Servant Room,Pooja Room,Store Room      2\n",
       "Others,Study Room                                  1\n",
       "Servant Room,Study Room,Others                     1\n",
       "Servant Room,Pooja Room,Study Room                 1\n",
       "Servant Room,Study Room,Pooja Room                 1\n",
       "Store Room,Pooja Room,Servant Room                 1\n",
       "Servant Room,Pooja Room,Store Room,Study Room      1\n",
       "Study Room,Store Room                              1\n",
       "Store Room,Study Room                              1\n",
       "Servant Room,Pooja Room,Store Room                 1\n",
       "Study Room,Servant Room,Store Room,Pooja Room      1\n",
       "Study Room,Servant Room,Pooja Room                 1\n",
       "Pooja Room,Servant Room,Study Room,Store Room      1\n",
       "Pooja Room,Study Room,Store Room,Servant Room      1\n",
       "Store Room,Pooja Room                              1\n",
       "Name: count, dtype: int64"
      ]
     },
     "execution_count": 98,
     "metadata": {},
     "output_type": "execute_result"
    }
   ],
   "source": [
    "# additionalRoom\n",
    "df_copy['additionalRoom'].value_counts()"
   ]
  },
  {
   "cell_type": "code",
   "execution_count": 100,
   "id": "5ed31b0c-f425-4f40-8df3-0824c568b8e4",
   "metadata": {},
   "outputs": [
    {
     "data": {
      "text/plain": [
       "np.int64(1305)"
      ]
     },
     "execution_count": 100,
     "metadata": {},
     "output_type": "execute_result"
    }
   ],
   "source": [
    "df_copy['additionalRoom'].isnull().sum()"
   ]
  },
  {
   "cell_type": "code",
   "execution_count": 101,
   "id": "f91a3734-2767-448d-b1f0-ea6362120884",
   "metadata": {},
   "outputs": [
    {
     "name": "stderr",
     "output_type": "stream",
     "text": [
      "C:\\Users\\Lenovo\\AppData\\Local\\Temp\\ipykernel_9160\\331398960.py:1: FutureWarning: A value is trying to be set on a copy of a DataFrame or Series through chained assignment using an inplace method.\n",
      "The behavior will change in pandas 3.0. This inplace method will never work because the intermediate object on which we are setting values always behaves as a copy.\n",
      "\n",
      "For example, when doing 'df[col].method(value, inplace=True)', try using 'df.method({col: value}, inplace=True)' or df[col] = df[col].method(value) instead, to perform the operation inplace on the original object.\n",
      "\n",
      "\n",
      "  df_copy['additionalRoom'].fillna('not available',inplace=True)\n",
      "C:\\Users\\Lenovo\\AppData\\Local\\Temp\\ipykernel_9160\\331398960.py:1: SettingWithCopyWarning: \n",
      "A value is trying to be set on a copy of a slice from a DataFrame\n",
      "\n",
      "See the caveats in the documentation: https://pandas.pydata.org/pandas-docs/stable/user_guide/indexing.html#returning-a-view-versus-a-copy\n",
      "  df_copy['additionalRoom'].fillna('not available',inplace=True)\n"
     ]
    }
   ],
   "source": [
    "df_copy['additionalRoom'].fillna('not available',inplace=True)"
   ]
  },
  {
   "cell_type": "code",
   "execution_count": 102,
   "id": "55c8ebe3-e0d8-4c8c-ba0e-9fba9079de2a",
   "metadata": {},
   "outputs": [
    {
     "name": "stderr",
     "output_type": "stream",
     "text": [
      "C:\\Users\\Lenovo\\AppData\\Local\\Temp\\ipykernel_9160\\3757741552.py:1: SettingWithCopyWarning: \n",
      "A value is trying to be set on a copy of a slice from a DataFrame.\n",
      "Try using .loc[row_indexer,col_indexer] = value instead\n",
      "\n",
      "See the caveats in the documentation: https://pandas.pydata.org/pandas-docs/stable/user_guide/indexing.html#returning-a-view-versus-a-copy\n",
      "  df_copy['additionalRoom'] = df_copy['additionalRoom'].str.lower()\n"
     ]
    }
   ],
   "source": [
    "df_copy['additionalRoom'] = df_copy['additionalRoom'].str.lower()"
   ]
  },
  {
   "cell_type": "code",
   "execution_count": 103,
   "id": "0b0f612a-37f1-45af-a12c-d42811295081",
   "metadata": {},
   "outputs": [
    {
     "data": {
      "text/html": [
       "<div>\n",
       "<style scoped>\n",
       "    .dataframe tbody tr th:only-of-type {\n",
       "        vertical-align: middle;\n",
       "    }\n",
       "\n",
       "    .dataframe tbody tr th {\n",
       "        vertical-align: top;\n",
       "    }\n",
       "\n",
       "    .dataframe thead th {\n",
       "        text-align: right;\n",
       "    }\n",
       "</style>\n",
       "<table border=\"1\" class=\"dataframe\">\n",
       "  <thead>\n",
       "    <tr style=\"text-align: right;\">\n",
       "      <th></th>\n",
       "      <th>property_name</th>\n",
       "      <th>link</th>\n",
       "      <th>society</th>\n",
       "      <th>price</th>\n",
       "      <th>area</th>\n",
       "      <th>areaWithType</th>\n",
       "      <th>bedRoom</th>\n",
       "      <th>bathroom</th>\n",
       "      <th>balcony</th>\n",
       "      <th>additionalRoom</th>\n",
       "      <th>address</th>\n",
       "      <th>floorNum</th>\n",
       "      <th>facing</th>\n",
       "      <th>agePossession</th>\n",
       "      <th>nearbyLocations</th>\n",
       "      <th>description</th>\n",
       "      <th>furnishDetails</th>\n",
       "      <th>features</th>\n",
       "      <th>rating</th>\n",
       "      <th>property_id</th>\n",
       "    </tr>\n",
       "  </thead>\n",
       "  <tbody>\n",
       "    <tr>\n",
       "      <th>2353</th>\n",
       "      <td>2 BHK Flat in Sector 70A Gurgaon</td>\n",
       "      <td>https://www.99acres.com/2-bhk-bedroom-apartmen...</td>\n",
       "      <td>AIPL Zen Residences</td>\n",
       "      <td>1.25 Crore</td>\n",
       "      <td>₹ 9,904/sq.ft.</td>\n",
       "      <td>Carpet area: 1262 (117.24 sq.m.)</td>\n",
       "      <td>2 Bedrooms</td>\n",
       "      <td>2 Bathrooms</td>\n",
       "      <td>2 Balconies</td>\n",
       "      <td>NaN</td>\n",
       "      <td>Sector 70A Gurgaon, Gurgaon, Haryana</td>\n",
       "      <td>19th   of 30 Floors</td>\n",
       "      <td>NaN</td>\n",
       "      <td>Within 3 months</td>\n",
       "      <td>['Airia Mall', 'National Highway 8', 'Southern...</td>\n",
       "      <td>Looking for a 2 bhk property for sale in gurga...</td>\n",
       "      <td>['1 Stove', '3 AC', '1 Modular Kitchen', 'No B...</td>\n",
       "      <td>['Feng Shui / Vaastu Compliant', 'Security / F...</td>\n",
       "      <td>['Environment5 out of 5', 'Lifestyle4 out of 5...</td>\n",
       "      <td>K69422064</td>\n",
       "    </tr>\n",
       "    <tr>\n",
       "      <th>1862</th>\n",
       "      <td>3 BHK Flat in Sector 33 Gurgaon</td>\n",
       "      <td>https://www.99acres.com/3-bhk-bedroom-apartmen...</td>\n",
       "      <td>Unitech The Residences3.7 ★</td>\n",
       "      <td>1.35 Crore</td>\n",
       "      <td>₹ 8,737/sq.ft.</td>\n",
       "      <td>Super Built up area 1545(143.54 sq.m.)</td>\n",
       "      <td>3 Bedrooms</td>\n",
       "      <td>4 Bathrooms</td>\n",
       "      <td>2 Balconies</td>\n",
       "      <td>Servant Room</td>\n",
       "      <td>701, Sector 33 Gurgaon, Gurgaon, Haryana</td>\n",
       "      <td>8th   of 14 Floors</td>\n",
       "      <td>North-East</td>\n",
       "      <td>5 to 10 Year Old</td>\n",
       "      <td>['Huda Metro Station', 'Raheja Mall', 'Delhi G...</td>\n",
       "      <td>This 3 bhk apartment is available for sale in ...</td>\n",
       "      <td>[]</td>\n",
       "      <td>['Feng Shui / Vaastu Compliant', 'Security / F...</td>\n",
       "      <td>['Green Area5 out of 5', 'Construction4 out of...</td>\n",
       "      <td>C69428930</td>\n",
       "    </tr>\n",
       "    <tr>\n",
       "      <th>694</th>\n",
       "      <td>2 BHK Flat in Sector 104 Gurgaon</td>\n",
       "      <td>https://www.99acres.com/2-bhk-bedroom-apartmen...</td>\n",
       "      <td>Puri Emerald Bay3.7 ★</td>\n",
       "      <td>1.32 Crore</td>\n",
       "      <td>₹ 8,516/sq.ft.</td>\n",
       "      <td>Super Built up area 1550(144 sq.m.)</td>\n",
       "      <td>2 Bedrooms</td>\n",
       "      <td>2 Bathrooms</td>\n",
       "      <td>2 Balconies</td>\n",
       "      <td>NaN</td>\n",
       "      <td>Dwarka Express Way, Sector 104 Gurgaon, Gurgao...</td>\n",
       "      <td>10th   of 29 Floors</td>\n",
       "      <td>North-East</td>\n",
       "      <td>1 to 5 Year Old</td>\n",
       "      <td>['Sector-21 Metro Dwarka', 'Gurgaon Dreamz Mal...</td>\n",
       "      <td>Looking for a 2 bhk property for sale in gurga...</td>\n",
       "      <td>['1 Stove', '1 Chimney', '4 AC', 'No Bed', 'No...</td>\n",
       "      <td>['Security / Fire Alarm', 'Feng Shui / Vaastu ...</td>\n",
       "      <td>['Green Area5 out of 5', 'Construction5 out of...</td>\n",
       "      <td>L69764558</td>\n",
       "    </tr>\n",
       "  </tbody>\n",
       "</table>\n",
       "</div>"
      ],
      "text/plain": [
       "                         property_name  \\\n",
       "2353  2 BHK Flat in Sector 70A Gurgaon   \n",
       "1862   3 BHK Flat in Sector 33 Gurgaon   \n",
       "694   2 BHK Flat in Sector 104 Gurgaon   \n",
       "\n",
       "                                                   link  \\\n",
       "2353  https://www.99acres.com/2-bhk-bedroom-apartmen...   \n",
       "1862  https://www.99acres.com/3-bhk-bedroom-apartmen...   \n",
       "694   https://www.99acres.com/2-bhk-bedroom-apartmen...   \n",
       "\n",
       "                          society       price            area  \\\n",
       "2353          AIPL Zen Residences  1.25 Crore  ₹ 9,904/sq.ft.   \n",
       "1862  Unitech The Residences3.7 ★  1.35 Crore  ₹ 8,737/sq.ft.   \n",
       "694         Puri Emerald Bay3.7 ★  1.32 Crore  ₹ 8,516/sq.ft.   \n",
       "\n",
       "                                areaWithType     bedRoom     bathroom  \\\n",
       "2353        Carpet area: 1262 (117.24 sq.m.)  2 Bedrooms  2 Bathrooms   \n",
       "1862  Super Built up area 1545(143.54 sq.m.)  3 Bedrooms  4 Bathrooms   \n",
       "694      Super Built up area 1550(144 sq.m.)  2 Bedrooms  2 Bathrooms   \n",
       "\n",
       "          balcony additionalRoom  \\\n",
       "2353  2 Balconies            NaN   \n",
       "1862  2 Balconies   Servant Room   \n",
       "694   2 Balconies            NaN   \n",
       "\n",
       "                                                address             floorNum  \\\n",
       "2353               Sector 70A Gurgaon, Gurgaon, Haryana  19th   of 30 Floors   \n",
       "1862           701, Sector 33 Gurgaon, Gurgaon, Haryana   8th   of 14 Floors   \n",
       "694   Dwarka Express Way, Sector 104 Gurgaon, Gurgao...  10th   of 29 Floors   \n",
       "\n",
       "          facing     agePossession  \\\n",
       "2353         NaN   Within 3 months   \n",
       "1862  North-East  5 to 10 Year Old   \n",
       "694   North-East   1 to 5 Year Old   \n",
       "\n",
       "                                        nearbyLocations  \\\n",
       "2353  ['Airia Mall', 'National Highway 8', 'Southern...   \n",
       "1862  ['Huda Metro Station', 'Raheja Mall', 'Delhi G...   \n",
       "694   ['Sector-21 Metro Dwarka', 'Gurgaon Dreamz Mal...   \n",
       "\n",
       "                                            description  \\\n",
       "2353  Looking for a 2 bhk property for sale in gurga...   \n",
       "1862  This 3 bhk apartment is available for sale in ...   \n",
       "694   Looking for a 2 bhk property for sale in gurga...   \n",
       "\n",
       "                                         furnishDetails  \\\n",
       "2353  ['1 Stove', '3 AC', '1 Modular Kitchen', 'No B...   \n",
       "1862                                                 []   \n",
       "694   ['1 Stove', '1 Chimney', '4 AC', 'No Bed', 'No...   \n",
       "\n",
       "                                               features  \\\n",
       "2353  ['Feng Shui / Vaastu Compliant', 'Security / F...   \n",
       "1862  ['Feng Shui / Vaastu Compliant', 'Security / F...   \n",
       "694   ['Security / Fire Alarm', 'Feng Shui / Vaastu ...   \n",
       "\n",
       "                                                 rating property_id  \n",
       "2353  ['Environment5 out of 5', 'Lifestyle4 out of 5...   K69422064  \n",
       "1862  ['Green Area5 out of 5', 'Construction4 out of...   C69428930  \n",
       "694   ['Green Area5 out of 5', 'Construction5 out of...   L69764558  "
      ]
     },
     "execution_count": 103,
     "metadata": {},
     "output_type": "execute_result"
    }
   ],
   "source": [
    "df.sample(3)"
   ]
  },
  {
   "cell_type": "code",
   "execution_count": 104,
   "id": "67ac1b6f-b1ac-4cf3-a492-e9b2df2da376",
   "metadata": {},
   "outputs": [
    {
     "data": {
      "text/plain": [
       "0         4th   of 4 Floors\n",
       "1         1st   of 3 Floors\n",
       "2       12nd   of 14 Floors\n",
       "3         2nd   of 4 Floors\n",
       "4         5th   of 8 Floors\n",
       "               ...         \n",
       "3012     9th   of 13 Floors\n",
       "3013      4th   of 5 Floors\n",
       "3014     3rd   of 22 Floors\n",
       "3015      9th   of 9 Floors\n",
       "3016     7th   of 36 Floors\n",
       "Name: floorNum, Length: 2997, dtype: object"
      ]
     },
     "execution_count": 104,
     "metadata": {},
     "output_type": "execute_result"
    }
   ],
   "source": [
    "# floor num\n",
    "df_copy['floorNum']"
   ]
  },
  {
   "cell_type": "code",
   "execution_count": 105,
   "id": "55518ab2-eed2-4cd0-8f16-67439ff42d59",
   "metadata": {},
   "outputs": [
    {
     "data": {
      "text/plain": [
       "np.int64(2)"
      ]
     },
     "execution_count": 105,
     "metadata": {},
     "output_type": "execute_result"
    }
   ],
   "source": [
    "df_copy['floorNum'].isnull().sum()"
   ]
  },
  {
   "cell_type": "code",
   "execution_count": 106,
   "id": "25c47fbe-c659-4ef4-89b3-c4aec83e7f44",
   "metadata": {},
   "outputs": [
    {
     "data": {
      "text/html": [
       "<div>\n",
       "<style scoped>\n",
       "    .dataframe tbody tr th:only-of-type {\n",
       "        vertical-align: middle;\n",
       "    }\n",
       "\n",
       "    .dataframe tbody tr th {\n",
       "        vertical-align: top;\n",
       "    }\n",
       "\n",
       "    .dataframe thead th {\n",
       "        text-align: right;\n",
       "    }\n",
       "</style>\n",
       "<table border=\"1\" class=\"dataframe\">\n",
       "  <thead>\n",
       "    <tr style=\"text-align: right;\">\n",
       "      <th></th>\n",
       "      <th>property_name</th>\n",
       "      <th>society</th>\n",
       "      <th>price</th>\n",
       "      <th>price_per_sqft</th>\n",
       "      <th>areaWithType</th>\n",
       "      <th>bedRoom</th>\n",
       "      <th>bathroom</th>\n",
       "      <th>balcony</th>\n",
       "      <th>additionalRoom</th>\n",
       "      <th>address</th>\n",
       "      <th>floorNum</th>\n",
       "      <th>facing</th>\n",
       "      <th>agePossession</th>\n",
       "      <th>nearbyLocations</th>\n",
       "      <th>description</th>\n",
       "      <th>furnishDetails</th>\n",
       "      <th>features</th>\n",
       "      <th>rating</th>\n",
       "    </tr>\n",
       "  </thead>\n",
       "  <tbody>\n",
       "    <tr>\n",
       "      <th>181</th>\n",
       "      <td>3 BHK Flat in Dwarka Expressway Gurgaon</td>\n",
       "      <td>experion heartsong</td>\n",
       "      <td>1.08</td>\n",
       "      <td>6150.0</td>\n",
       "      <td>Built Up area: 1758 (163.32 sq.m.)</td>\n",
       "      <td>3.0</td>\n",
       "      <td>3.0</td>\n",
       "      <td>0</td>\n",
       "      <td>not available</td>\n",
       "      <td>604, Tower B-3, 6th Floor,Sector 108, Dwarka E...</td>\n",
       "      <td>NaN</td>\n",
       "      <td>NaN</td>\n",
       "      <td>Under Construction</td>\n",
       "      <td>NaN</td>\n",
       "      <td>A property by one of the most reputed builders...</td>\n",
       "      <td>[]</td>\n",
       "      <td>NaN</td>\n",
       "      <td>NaN</td>\n",
       "    </tr>\n",
       "    <tr>\n",
       "      <th>2766</th>\n",
       "      <td>2 BHK Flat in Sector 78 Gurgaon</td>\n",
       "      <td>nan</td>\n",
       "      <td>0.60</td>\n",
       "      <td>3692.0</td>\n",
       "      <td>Built Up area: 1625 (150.97 sq.m.)</td>\n",
       "      <td>2.0</td>\n",
       "      <td>2.0</td>\n",
       "      <td>0</td>\n",
       "      <td>not available</td>\n",
       "      <td>Gurgaon, Sector 78 Gurgaon, Gurgaon, Haryana</td>\n",
       "      <td>NaN</td>\n",
       "      <td>NaN</td>\n",
       "      <td>Under Construction</td>\n",
       "      <td>NaN</td>\n",
       "      <td>The property is under construction it's by rah...</td>\n",
       "      <td>[]</td>\n",
       "      <td>NaN</td>\n",
       "      <td>['Safety4 out of 5', 'Lifestyle4 out of 5', 'E...</td>\n",
       "    </tr>\n",
       "  </tbody>\n",
       "</table>\n",
       "</div>"
      ],
      "text/plain": [
       "                                property_name             society  price  \\\n",
       "181   3 BHK Flat in Dwarka Expressway Gurgaon  experion heartsong   1.08   \n",
       "2766          2 BHK Flat in Sector 78 Gurgaon                 nan   0.60   \n",
       "\n",
       "      price_per_sqft                        areaWithType  bedRoom  bathroom  \\\n",
       "181           6150.0  Built Up area: 1758 (163.32 sq.m.)      3.0       3.0   \n",
       "2766          3692.0  Built Up area: 1625 (150.97 sq.m.)      2.0       2.0   \n",
       "\n",
       "     balcony additionalRoom  \\\n",
       "181        0  not available   \n",
       "2766       0  not available   \n",
       "\n",
       "                                                address floorNum facing  \\\n",
       "181   604, Tower B-3, 6th Floor,Sector 108, Dwarka E...      NaN    NaN   \n",
       "2766       Gurgaon, Sector 78 Gurgaon, Gurgaon, Haryana      NaN    NaN   \n",
       "\n",
       "           agePossession nearbyLocations  \\\n",
       "181   Under Construction             NaN   \n",
       "2766  Under Construction             NaN   \n",
       "\n",
       "                                            description furnishDetails  \\\n",
       "181   A property by one of the most reputed builders...             []   \n",
       "2766  The property is under construction it's by rah...             []   \n",
       "\n",
       "     features                                             rating  \n",
       "181       NaN                                                NaN  \n",
       "2766      NaN  ['Safety4 out of 5', 'Lifestyle4 out of 5', 'E...  "
      ]
     },
     "execution_count": 106,
     "metadata": {},
     "output_type": "execute_result"
    }
   ],
   "source": [
    "df_copy[df_copy['floorNum'].isnull()]"
   ]
  },
  {
   "cell_type": "code",
   "execution_count": 113,
   "id": "4ea17898-3629-447b-8ef9-15e9ee780e08",
   "metadata": {},
   "outputs": [],
   "source": [
    "# df_copy['floorNum'].str.split(' ').str.get(0).replace('Ground','0').str.extract(r'(\\d+)')"
   ]
  },
  {
   "cell_type": "code",
   "execution_count": 114,
   "id": "c26aa102-d0b7-45f0-8a24-6fc6f8c9d92d",
   "metadata": {},
   "outputs": [],
   "source": [
    "df_copy['floorNum'] = df_copy['floorNum'].str.split(' ').str.get(0). \\\n",
    "                               replace('Ground','0').str.replace('Basement','-1'). \\\n",
    "                               str.replace('Lower','0').str.extract(r'(\\d+)')"
   ]
  },
  {
   "cell_type": "code",
   "execution_count": 115,
   "id": "8efb5764-3d02-45fc-bbf4-a8001fdc9ef5",
   "metadata": {},
   "outputs": [
    {
     "data": {
      "text/html": [
       "<div>\n",
       "<style scoped>\n",
       "    .dataframe tbody tr th:only-of-type {\n",
       "        vertical-align: middle;\n",
       "    }\n",
       "\n",
       "    .dataframe tbody tr th {\n",
       "        vertical-align: top;\n",
       "    }\n",
       "\n",
       "    .dataframe thead th {\n",
       "        text-align: right;\n",
       "    }\n",
       "</style>\n",
       "<table border=\"1\" class=\"dataframe\">\n",
       "  <thead>\n",
       "    <tr style=\"text-align: right;\">\n",
       "      <th></th>\n",
       "      <th>property_name</th>\n",
       "      <th>society</th>\n",
       "      <th>price</th>\n",
       "      <th>price_per_sqft</th>\n",
       "      <th>areaWithType</th>\n",
       "      <th>bedRoom</th>\n",
       "      <th>bathroom</th>\n",
       "      <th>balcony</th>\n",
       "      <th>additionalRoom</th>\n",
       "      <th>address</th>\n",
       "      <th>floorNum</th>\n",
       "      <th>facing</th>\n",
       "      <th>agePossession</th>\n",
       "      <th>nearbyLocations</th>\n",
       "      <th>description</th>\n",
       "      <th>furnishDetails</th>\n",
       "      <th>features</th>\n",
       "      <th>rating</th>\n",
       "    </tr>\n",
       "  </thead>\n",
       "  <tbody>\n",
       "    <tr>\n",
       "      <th>1723</th>\n",
       "      <td>3 BHK Flat in Sector 69 Gurgaon</td>\n",
       "      <td>tulip violet</td>\n",
       "      <td>1.38</td>\n",
       "      <td>8972.0</td>\n",
       "      <td>Carpet area: 1538 (142.88 sq.m.)</td>\n",
       "      <td>3.0</td>\n",
       "      <td>3.0</td>\n",
       "      <td>1</td>\n",
       "      <td>not available</td>\n",
       "      <td>Sector 69 Gurgaon, Gurgaon, Haryana</td>\n",
       "      <td>12</td>\n",
       "      <td>West</td>\n",
       "      <td>1 to 5 Year Old</td>\n",
       "      <td>['Airia Mall Sector 68', 'Southern Peripheral ...</td>\n",
       "      <td>Check out this 3 bhk apartment for sale in tul...</td>\n",
       "      <td>['1 Modular Kitchen', 'No AC', 'No Bed', 'No C...</td>\n",
       "      <td>['Centrally Air Conditioned', 'Water purifier'...</td>\n",
       "      <td>['Green Area5 out of 5', 'Construction4 out of...</td>\n",
       "    </tr>\n",
       "    <tr>\n",
       "      <th>1448</th>\n",
       "      <td>2 BHK Flat in Sohna</td>\n",
       "      <td>eldeco accolade</td>\n",
       "      <td>0.72</td>\n",
       "      <td>5735.0</td>\n",
       "      <td>Carpet area: 1264 (117.43 sq.m.)</td>\n",
       "      <td>2.0</td>\n",
       "      <td>2.0</td>\n",
       "      <td>3</td>\n",
       "      <td>not available</td>\n",
       "      <td>0001, Sohna, Gurgaon, Haryana</td>\n",
       "      <td>8</td>\n",
       "      <td>West</td>\n",
       "      <td>1 to 5 Year Old</td>\n",
       "      <td>['Global City Centre', 'Sohna Road', 'Damdama ...</td>\n",
       "      <td>Eldeco accolade in sohna, gurgaon is a ready-T...</td>\n",
       "      <td>['3 Fan', '1 Exhaust Fan', '3 Light', 'No AC',...</td>\n",
       "      <td>['Water purifier', 'Centrally Air Conditioned'...</td>\n",
       "      <td>['Green Area5 out of 5', 'Construction4.5 out ...</td>\n",
       "    </tr>\n",
       "  </tbody>\n",
       "</table>\n",
       "</div>"
      ],
      "text/plain": [
       "                        property_name          society  price  price_per_sqft  \\\n",
       "1723  3 BHK Flat in Sector 69 Gurgaon     tulip violet   1.38          8972.0   \n",
       "1448              2 BHK Flat in Sohna  eldeco accolade   0.72          5735.0   \n",
       "\n",
       "                          areaWithType  bedRoom  bathroom balcony  \\\n",
       "1723  Carpet area: 1538 (142.88 sq.m.)      3.0       3.0       1   \n",
       "1448  Carpet area: 1264 (117.43 sq.m.)      2.0       2.0       3   \n",
       "\n",
       "     additionalRoom                              address floorNum facing  \\\n",
       "1723  not available  Sector 69 Gurgaon, Gurgaon, Haryana       12   West   \n",
       "1448  not available        0001, Sohna, Gurgaon, Haryana        8   West   \n",
       "\n",
       "        agePossession                                    nearbyLocations  \\\n",
       "1723  1 to 5 Year Old  ['Airia Mall Sector 68', 'Southern Peripheral ...   \n",
       "1448  1 to 5 Year Old  ['Global City Centre', 'Sohna Road', 'Damdama ...   \n",
       "\n",
       "                                            description  \\\n",
       "1723  Check out this 3 bhk apartment for sale in tul...   \n",
       "1448  Eldeco accolade in sohna, gurgaon is a ready-T...   \n",
       "\n",
       "                                         furnishDetails  \\\n",
       "1723  ['1 Modular Kitchen', 'No AC', 'No Bed', 'No C...   \n",
       "1448  ['3 Fan', '1 Exhaust Fan', '3 Light', 'No AC',...   \n",
       "\n",
       "                                               features  \\\n",
       "1723  ['Centrally Air Conditioned', 'Water purifier'...   \n",
       "1448  ['Water purifier', 'Centrally Air Conditioned'...   \n",
       "\n",
       "                                                 rating  \n",
       "1723  ['Green Area5 out of 5', 'Construction4 out of...  \n",
       "1448  ['Green Area5 out of 5', 'Construction4.5 out ...  "
      ]
     },
     "execution_count": 115,
     "metadata": {},
     "output_type": "execute_result"
    }
   ],
   "source": [
    "df_copy.sample(2)"
   ]
  },
  {
   "cell_type": "code",
   "execution_count": 116,
   "id": "40d42879-93da-4e21-a2ac-0c08a1216e2a",
   "metadata": {},
   "outputs": [
    {
     "data": {
      "text/plain": [
       "facing\n",
       "North-East    505\n",
       "East          490\n",
       "North         301\n",
       "South         203\n",
       "West          183\n",
       "North-West    162\n",
       "South-East    144\n",
       "South-West    135\n",
       "Name: count, dtype: int64"
      ]
     },
     "execution_count": 116,
     "metadata": {},
     "output_type": "execute_result"
    }
   ],
   "source": [
    "# facing\n",
    "df_copy['facing'].value_counts()"
   ]
  },
  {
   "cell_type": "code",
   "execution_count": 117,
   "id": "b877466b-c6d6-428a-9cb5-fb0d2088ae10",
   "metadata": {},
   "outputs": [
    {
     "data": {
      "text/plain": [
       "np.int64(874)"
      ]
     },
     "execution_count": 117,
     "metadata": {},
     "output_type": "execute_result"
    }
   ],
   "source": [
    "df_copy['facing'].isnull().sum()"
   ]
  },
  {
   "cell_type": "code",
   "execution_count": 118,
   "id": "d88a9e4b-4d49-4d99-b32d-c7ed07633b82",
   "metadata": {},
   "outputs": [
    {
     "name": "stderr",
     "output_type": "stream",
     "text": [
      "C:\\Users\\Lenovo\\AppData\\Local\\Temp\\ipykernel_9160\\492954701.py:1: FutureWarning: A value is trying to be set on a copy of a DataFrame or Series through chained assignment using an inplace method.\n",
      "The behavior will change in pandas 3.0. This inplace method will never work because the intermediate object on which we are setting values always behaves as a copy.\n",
      "\n",
      "For example, when doing 'df[col].method(value, inplace=True)', try using 'df.method({col: value}, inplace=True)' or df[col] = df[col].method(value) instead, to perform the operation inplace on the original object.\n",
      "\n",
      "\n",
      "  df_copy['facing'].fillna('NA',inplace=True)\n"
     ]
    }
   ],
   "source": [
    "df_copy['facing'].fillna('NA',inplace=True)"
   ]
  },
  {
   "cell_type": "code",
   "execution_count": 119,
   "id": "4a91c1da-91be-4fb1-b242-04c220d2da5a",
   "metadata": {},
   "outputs": [
    {
     "data": {
      "text/plain": [
       "facing\n",
       "NA            874\n",
       "North-East    505\n",
       "East          490\n",
       "North         301\n",
       "South         203\n",
       "West          183\n",
       "North-West    162\n",
       "South-East    144\n",
       "South-West    135\n",
       "Name: count, dtype: int64"
      ]
     },
     "execution_count": 119,
     "metadata": {},
     "output_type": "execute_result"
    }
   ],
   "source": [
    "df_copy['facing'].value_counts()"
   ]
  },
  {
   "cell_type": "code",
   "execution_count": 120,
   "id": "4e792c62-ed43-4631-8977-708cdc83e17c",
   "metadata": {},
   "outputs": [],
   "source": [
    "df_copy.insert(loc=4,column='area',value=round((df_copy['price']*10000000)/df_copy['price_per_sqft']))"
   ]
  },
  {
   "cell_type": "code",
   "execution_count": 121,
   "id": "276b060b-dd98-45d9-a595-0b2a37d8d6a9",
   "metadata": {},
   "outputs": [],
   "source": [
    "df_copy.insert(loc=1,column='property_type',value='flat')"
   ]
  },
  {
   "cell_type": "code",
   "execution_count": 122,
   "id": "5c712820-0771-4765-bc5b-58411288124e",
   "metadata": {},
   "outputs": [
    {
     "data": {
      "text/html": [
       "<div>\n",
       "<style scoped>\n",
       "    .dataframe tbody tr th:only-of-type {\n",
       "        vertical-align: middle;\n",
       "    }\n",
       "\n",
       "    .dataframe tbody tr th {\n",
       "        vertical-align: top;\n",
       "    }\n",
       "\n",
       "    .dataframe thead th {\n",
       "        text-align: right;\n",
       "    }\n",
       "</style>\n",
       "<table border=\"1\" class=\"dataframe\">\n",
       "  <thead>\n",
       "    <tr style=\"text-align: right;\">\n",
       "      <th></th>\n",
       "      <th>property_name</th>\n",
       "      <th>property_type</th>\n",
       "      <th>society</th>\n",
       "      <th>price</th>\n",
       "      <th>price_per_sqft</th>\n",
       "      <th>area</th>\n",
       "      <th>areaWithType</th>\n",
       "      <th>bedRoom</th>\n",
       "      <th>bathroom</th>\n",
       "      <th>balcony</th>\n",
       "      <th>additionalRoom</th>\n",
       "      <th>address</th>\n",
       "      <th>floorNum</th>\n",
       "      <th>facing</th>\n",
       "      <th>agePossession</th>\n",
       "      <th>nearbyLocations</th>\n",
       "      <th>description</th>\n",
       "      <th>furnishDetails</th>\n",
       "      <th>features</th>\n",
       "      <th>rating</th>\n",
       "    </tr>\n",
       "  </thead>\n",
       "  <tbody>\n",
       "    <tr>\n",
       "      <th>1248</th>\n",
       "      <td>2 BHK Flat in Sector 37C Gurgaon</td>\n",
       "      <td>flat</td>\n",
       "      <td>imperia the esfera</td>\n",
       "      <td>0.86</td>\n",
       "      <td>5449.0</td>\n",
       "      <td>1578.0</td>\n",
       "      <td>Super Built up area 1578(146.6 sq.m.)Carpet ar...</td>\n",
       "      <td>2.0</td>\n",
       "      <td>3.0</td>\n",
       "      <td>3</td>\n",
       "      <td>study room,others</td>\n",
       "      <td>Sector 37C Gurgaon, Gurgaon, Haryana</td>\n",
       "      <td>9</td>\n",
       "      <td>South-East</td>\n",
       "      <td>1 to 5 Year Old</td>\n",
       "      <td>['Approved Sector 37 Mero Station', 'Esplanade...</td>\n",
       "      <td>Situated in sector 37c gurgaon, imperia the es...</td>\n",
       "      <td>NaN</td>\n",
       "      <td>['Feng Shui / Vaastu Compliant', 'Security / F...</td>\n",
       "      <td>['Environment5 out of 5', 'Lifestyle4 out of 5...</td>\n",
       "    </tr>\n",
       "    <tr>\n",
       "      <th>1698</th>\n",
       "      <td>2 BHK Flat in Sector 82 Gurgaon</td>\n",
       "      <td>flat</td>\n",
       "      <td>vatika the seven lamps</td>\n",
       "      <td>0.86</td>\n",
       "      <td>6022.0</td>\n",
       "      <td>1428.0</td>\n",
       "      <td>Super Built up area 1430(132.85 sq.m.)</td>\n",
       "      <td>2.0</td>\n",
       "      <td>2.0</td>\n",
       "      <td>2</td>\n",
       "      <td>study room</td>\n",
       "      <td>Sector 82 Gurgaon, Gurgaon, Haryana</td>\n",
       "      <td>12</td>\n",
       "      <td>East</td>\n",
       "      <td>1 to 5 Year Old</td>\n",
       "      <td>['SS Omnia Mall', 'Golf Course Ext Rd', 'Knowl...</td>\n",
       "      <td>Brokers excuse, 2bhk study, 1430 sq. Ft., east...</td>\n",
       "      <td>['2 Wardrobe', '5 Fan', '1 Exhaust Fan', '1 Ge...</td>\n",
       "      <td>['Security / Fire Alarm', 'Feng Shui / Vaastu ...</td>\n",
       "      <td>['Green Area5 out of 5', 'Construction5 out of...</td>\n",
       "    </tr>\n",
       "  </tbody>\n",
       "</table>\n",
       "</div>"
      ],
      "text/plain": [
       "                         property_name property_type                 society  \\\n",
       "1248  2 BHK Flat in Sector 37C Gurgaon          flat      imperia the esfera   \n",
       "1698   2 BHK Flat in Sector 82 Gurgaon          flat  vatika the seven lamps   \n",
       "\n",
       "      price  price_per_sqft    area  \\\n",
       "1248   0.86          5449.0  1578.0   \n",
       "1698   0.86          6022.0  1428.0   \n",
       "\n",
       "                                           areaWithType  bedRoom  bathroom  \\\n",
       "1248  Super Built up area 1578(146.6 sq.m.)Carpet ar...      2.0       3.0   \n",
       "1698             Super Built up area 1430(132.85 sq.m.)      2.0       2.0   \n",
       "\n",
       "     balcony     additionalRoom                               address  \\\n",
       "1248       3  study room,others  Sector 37C Gurgaon, Gurgaon, Haryana   \n",
       "1698       2         study room   Sector 82 Gurgaon, Gurgaon, Haryana   \n",
       "\n",
       "     floorNum      facing    agePossession  \\\n",
       "1248        9  South-East  1 to 5 Year Old   \n",
       "1698       12        East  1 to 5 Year Old   \n",
       "\n",
       "                                        nearbyLocations  \\\n",
       "1248  ['Approved Sector 37 Mero Station', 'Esplanade...   \n",
       "1698  ['SS Omnia Mall', 'Golf Course Ext Rd', 'Knowl...   \n",
       "\n",
       "                                            description  \\\n",
       "1248  Situated in sector 37c gurgaon, imperia the es...   \n",
       "1698  Brokers excuse, 2bhk study, 1430 sq. Ft., east...   \n",
       "\n",
       "                                         furnishDetails  \\\n",
       "1248                                                NaN   \n",
       "1698  ['2 Wardrobe', '5 Fan', '1 Exhaust Fan', '1 Ge...   \n",
       "\n",
       "                                               features  \\\n",
       "1248  ['Feng Shui / Vaastu Compliant', 'Security / F...   \n",
       "1698  ['Security / Fire Alarm', 'Feng Shui / Vaastu ...   \n",
       "\n",
       "                                                 rating  \n",
       "1248  ['Environment5 out of 5', 'Lifestyle4 out of 5...  \n",
       "1698  ['Green Area5 out of 5', 'Construction5 out of...  "
      ]
     },
     "execution_count": 122,
     "metadata": {},
     "output_type": "execute_result"
    }
   ],
   "source": [
    "df_copy.sample(2)"
   ]
  },
  {
   "cell_type": "code",
   "execution_count": 123,
   "id": "3392642f-50ff-43f4-9b10-28ac39636bc5",
   "metadata": {},
   "outputs": [
    {
     "name": "stdout",
     "output_type": "stream",
     "text": [
      "<class 'pandas.core.frame.DataFrame'>\n",
      "Index: 2997 entries, 0 to 3016\n",
      "Data columns (total 20 columns):\n",
      " #   Column           Non-Null Count  Dtype  \n",
      "---  ------           --------------  -----  \n",
      " 0   property_name    2997 non-null   object \n",
      " 1   property_type    2997 non-null   object \n",
      " 2   society          2997 non-null   object \n",
      " 3   price            2996 non-null   float64\n",
      " 4   price_per_sqft   2996 non-null   float64\n",
      " 5   area             2996 non-null   float64\n",
      " 6   areaWithType     2997 non-null   object \n",
      " 7   bedRoom          2997 non-null   float64\n",
      " 8   bathroom         2997 non-null   float64\n",
      " 9   balcony          2997 non-null   object \n",
      " 10  additionalRoom   2997 non-null   object \n",
      " 11  address          2991 non-null   object \n",
      " 12  floorNum         2995 non-null   object \n",
      " 13  facing           2997 non-null   object \n",
      " 14  agePossession    2996 non-null   object \n",
      " 15  nearbyLocations  2906 non-null   object \n",
      " 16  description      2997 non-null   object \n",
      " 17  furnishDetails   2200 non-null   object \n",
      " 18  features         2590 non-null   object \n",
      " 19  rating           2668 non-null   object \n",
      "dtypes: float64(5), object(15)\n",
      "memory usage: 556.2+ KB\n"
     ]
    }
   ],
   "source": [
    "df_copy.info()"
   ]
  },
  {
   "cell_type": "code",
   "execution_count": 124,
   "id": "ec1cafa9-dff1-40fd-9d55-bce03bc957f4",
   "metadata": {},
   "outputs": [
    {
     "data": {
      "text/plain": [
       "(2997, 20)"
      ]
     },
     "execution_count": 124,
     "metadata": {},
     "output_type": "execute_result"
    }
   ],
   "source": [
    "df_copy.shape"
   ]
  },
  {
   "cell_type": "code",
   "execution_count": 125,
   "id": "60f7dab3-333b-4ee6-aa43-5a76b0232a63",
   "metadata": {},
   "outputs": [],
   "source": [
    "df_copy.to_csv('flats_cleaned.csv',index=False)"
   ]
  },
  {
   "cell_type": "code",
   "execution_count": null,
   "id": "15a58fb0-e740-4fca-ac94-52293aa71cdb",
   "metadata": {},
   "outputs": [],
   "source": []
  }
 ],
 "metadata": {
  "kernelspec": {
   "display_name": "Python 3 (ipykernel)",
   "language": "python",
   "name": "python3"
  },
  "language_info": {
   "codemirror_mode": {
    "name": "ipython",
    "version": 3
   },
   "file_extension": ".py",
   "mimetype": "text/x-python",
   "name": "python",
   "nbconvert_exporter": "python",
   "pygments_lexer": "ipython3",
   "version": "3.12.3"
  }
 },
 "nbformat": 4,
 "nbformat_minor": 5
}
